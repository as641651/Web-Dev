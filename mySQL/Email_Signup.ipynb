{
 "cells": [
  {
   "cell_type": "markdown",
   "metadata": {},
   "source": [
    "## Email Sign up\n",
    "\n",
    ">1) Ask for email and password\n",
    "\n",
    ">2) Check that the email and password have been entered\n",
    "\n",
    ">3) Check that the email is not already registered\n",
    "\n",
    ">4) Add the user to the database"
   ]
  },
  {
   "cell_type": "markdown",
   "metadata": {},
   "source": [
    "```php\n",
    "\n",
    "<?php\n",
    "\n",
    "if(array_key_exists('email',\\$_POST)){\n",
    "\n",
    "  //CONNECT TO DB\n",
    "  \\$servername = \"shareddb-h.hosting.stackcp.net\";\n",
    "  \\$username = \"userdata-3333f633\";\n",
    "  \\$password = \"lifvkvf1ie\";\n",
    "  \\$databasename = \\$username; //Same in eco webhosting server\n",
    "\n",
    "  \\$link = mysqli_connect(\\$servername,\\$username,\\$password,\\$databasename);\n",
    "\n",
    "  if (mysqli_connect_error()){\n",
    "    // Stop the script if connection is not established!\n",
    "    die(\"There was an error connecting to database\");\n",
    "  }\n",
    "\n",
    "  //Checks\n",
    "  if(\\$_POST['email'] == ''){\n",
    "    echo \"<p>Email address is required</p>\";\n",
    "  }else if(\\$_POST['password'] == ''){\n",
    "    echo \"<p>Password is required</p>\";\n",
    "  }else{\n",
    "    //check if user exisits in db\n",
    "    \\$query = \"SELECT 'id' FROM users WHERE email= '\".mysqli_real_escape_string(\\$link,\\$_POST['email']).\"'\";\n",
    "    \\$result = mysqli_query(\\$link,\\$query);\n",
    "\n",
    "    if(mysqli_num_rows(\\$result) >0){\n",
    "        echo \"<p>That email address has been already taken </p>\";\n",
    "    }else{\n",
    "      //INSERT DATA\n",
    "      \\$query = \"INSERT INTO `users` (`email`,`password`) VALUES('\".mysqli_real_escape_string(\\$link,\\$_POST['email']).\"','\".mysqli_real_escape_string(\\$link,\\$_POST['password']).\"')\";\n",
    "\n",
    "      if(mysqli_query(\\$link,\\$query)){\n",
    "        echo \"<p>Sign up successful!</p>\";\n",
    "      }else{\n",
    "        echo mysqli_error(\\$link);\n",
    "      }\n",
    "\n",
    "    }\n",
    "  }\n",
    "\n",
    "\n",
    "}\n",
    "\n",
    "\n",
    "?>\n",
    "```\n",
    "\n",
    "```html\n",
    "<form method=\"post\">\n",
    "  <input name=\"email\" type=\"email\" placeholder=\"Email address\" />\n",
    "  <input name=\"password\" type=\"password\" placeholder=\"password\" />\n",
    "  <input type=\"submit\" value=\"Sign up!\" />\n",
    "</form>\n",
    "```"
   ]
  },
  {
   "cell_type": "markdown",
   "metadata": {},
   "source": [
    "### Output:\n",
    "\n",
    "<div class=\"alert alert-block alert-info\">\n",
    "\n",
    "<html>\n",
    "  <head>\n",
    "    <title> My WebPage </title>\n",
    "  </head>\n",
    "  <body>\n",
    "      <p><a href =\"http://aravindsankaran-com.stackstaging.com/mySQL/files/email_signup.php\" > Click here for output </a></p>\n",
    "  </body>\n",
    "</html>\n",
    "</div>"
   ]
  },
  {
   "cell_type": "code",
   "execution_count": null,
   "metadata": {},
   "outputs": [],
   "source": []
  }
 ],
 "metadata": {
  "kernelspec": {
   "display_name": "Python 3",
   "language": "python",
   "name": "python3"
  },
  "language_info": {
   "codemirror_mode": {
    "name": "ipython",
    "version": 3
   },
   "file_extension": ".py",
   "mimetype": "text/x-python",
   "name": "python",
   "nbconvert_exporter": "python",
   "pygments_lexer": "ipython3",
   "version": "3.4.3"
  }
 },
 "nbformat": 4,
 "nbformat_minor": 2
}
