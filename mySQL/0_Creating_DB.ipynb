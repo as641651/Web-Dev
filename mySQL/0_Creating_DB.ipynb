{
 "cells": [
  {
   "cell_type": "markdown",
   "metadata": {},
   "source": [
    "## Create a mySQL Database\n",
    "\n",
    "This has to be created on a server\n",
    "\n",
    ">1) Log on to eco-webhosting account and log into your domain\n",
    "\n",
    ">2) Click on mysql and set database name and Create\n",
    "\n",
    ">3) A database with max storage of 1GB will be created. servername,username/database name,password will be generated\n",
    "\n",
    ">4) Log into the database and create a table and specifiy the number of columns\n",
    "\n",
    ">5) Set the characteristcs (type,primary,etc) for each column"
   ]
  },
  {
   "cell_type": "code",
   "execution_count": null,
   "metadata": {},
   "outputs": [],
   "source": []
  }
 ],
 "metadata": {
  "kernelspec": {
   "display_name": "Python 3",
   "language": "python",
   "name": "python3"
  },
  "language_info": {
   "codemirror_mode": {
    "name": "ipython",
    "version": 3
   },
   "file_extension": ".py",
   "mimetype": "text/x-python",
   "name": "python",
   "nbconvert_exporter": "python",
   "pygments_lexer": "ipython3",
   "version": "3.4.3"
  }
 },
 "nbformat": 4,
 "nbformat_minor": 2
}
