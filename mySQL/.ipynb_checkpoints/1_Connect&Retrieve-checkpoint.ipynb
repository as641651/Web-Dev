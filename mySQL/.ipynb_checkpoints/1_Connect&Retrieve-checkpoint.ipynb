{
 "cells": [
  {
   "cell_type": "markdown",
   "metadata": {},
   "source": [
    "## Connect and retrieve from a Database\n",
    "\n",
    "To connect to a database, call **mysqli_connect** with four parameters,\n",
    ">1) servername\n",
    "\n",
    ">2) username\n",
    "\n",
    ">3) password\n",
    "\n",
    ">4) database name\n",
    "\n",
    "To print error messages, call mysqli_connect_error();\n",
    "\n",
    "### Retrieve\n",
    "\n",
    "> Retrieve using **SELECT** query\n",
    "\n",
    "> Run the query by calling **mysqli_query**(link,query)\n",
    "\n",
    "> **mysqli_fetch_array** retrieves a single row from the table"
   ]
  },
  {
   "cell_type": "markdown",
   "metadata": {},
   "source": [
    "```php\n",
    "<?php\n",
    "\n",
    "  //CONNECT TO DB\n",
    "  \n",
    "  $servername = \"shareddb-h.hosting.stackcp.net\";\n",
    "  \n",
    "  $username = \"userdata-3333f633\";\n",
    "  \n",
    "  $password = \"lifvkvf1ie\";\n",
    "  \n",
    "  \\$databasename = \\$username; //Same in eco webhosting server\n",
    "\n",
    "  \\$link = mysqli_connect(\\$servername,\\$username,\\$password,\\$databasename);\n",
    "\n",
    "  if (mysqli_connect_error() == \"\"){\n",
    "    echo \"Connection was successful<br />\";\n",
    "  }else {\n",
    "    // Stop the script if connection is not established!\n",
    "    die(\"There was an error connecting to database\");\n",
    "  }\n",
    "\n",
    "  //RETRIEVE FROM DB\n",
    "  $query = \"SELECT * FROM users\";\n",
    "\n",
    "  if(\\$result = mysqli_query(\\$link,\\$query)){\n",
    "    echo \"Query was successful!<br />\n",
    "    We can either use '0,1,2 or 'id,email,password' keys to access the data<br />\";\n",
    "\n",
    "    //Fetches 1 row\n",
    "    \\$rows = mysqli_fetch_array(\\$result);\n",
    "\n",
    "    print_r($rows);\n",
    "\n",
    "    echo \"<p>Email : \".\\$rows[\"email\"].\"</p>\";\n",
    "    echo \"<p>Password : \".\\$rows[\"password\"].\"</p>\";\n",
    "\n",
    "    //Fetches the second row\n",
    "    \\$rows = mysqli_fetch_array(\\$result);\n",
    "\n",
    "    print_r($rows);\n",
    "\n",
    "    echo \"<p>Email : \".\\$rows[1].\"</p>\";\n",
    "    echo \"<p>Password : \".\\$rows[2].\"</p>\";\n",
    "\n",
    "\n",
    "\n",
    "  };\n",
    "\n",
    " ?>\n",
    "```"
   ]
  },
  {
   "cell_type": "markdown",
   "metadata": {},
   "source": [
    "### Output:\n",
    "\n",
    "<div class=\"alert alert-block alert-info\">\n",
    "\n",
    "<html>\n",
    "  <head>\n",
    "    <title> My WebPage </title>\n",
    "  </head>\n",
    "  <body>\n",
    "      <p><a href =\"http://aravindsankaran-com.stackstaging.com/mySQL/files/connect_db.php\" > Click here for output </a></p>\n",
    "  </body>\n",
    "</html>\n",
    "</div>"
   ]
  },
  {
   "cell_type": "code",
   "execution_count": null,
   "metadata": {},
   "outputs": [],
   "source": []
  }
 ],
 "metadata": {
  "kernelspec": {
   "display_name": "Python 3",
   "language": "python",
   "name": "python3"
  },
  "language_info": {
   "codemirror_mode": {
    "name": "ipython",
    "version": 3
   },
   "file_extension": ".py",
   "mimetype": "text/x-python",
   "name": "python",
   "nbconvert_exporter": "python",
   "pygments_lexer": "ipython3",
   "version": "3.4.3"
  }
 },
 "nbformat": 4,
 "nbformat_minor": 2
}
