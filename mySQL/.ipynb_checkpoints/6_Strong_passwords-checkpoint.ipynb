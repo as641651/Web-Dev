{
 "cells": [
  {
   "cell_type": "markdown",
   "metadata": {},
   "source": [
    "## Strong Passwords\n",
    "\n",
    "It is not a safe idea to store the passwords as it is in the database. If someone gets hold of the database, they cann also get hold of the passwords. \n",
    "\n",
    "Hence it is recommended to convert the string to **hash** string\n",
    "\n",
    "```php\n",
    "<?php\n",
    "md5(\"password\");\n",
    "?>\n",
    "```\n",
    "This will output a unique hash string **5f4dcc3b5aa765d61d8327deb882cf99**, which cannot be reverse computed.\n",
    "\n",
    "Although hash strings cannot be backtraced, there are number of websites that have precomputed hash of all dictionary words\n",
    "\n",
    "eg, [crack station](https://crackstation.net/)"
   ]
  },
  {
   "cell_type": "markdown",
   "metadata": {},
   "source": [
    "### Turn weak password to strong password\n",
    "\n",
    "This is done by mixing a weak passord with a tough string called 'salt'\n",
    "\n",
    "```php\n",
    "<?php\n",
    "  \\$weakpass = \"mother\";\n",
    "  \\$salt = \"afsjhfdbashfb3243h\";\n",
    "  \\$strongpass = \\$salt.\\$weakpass;\n",
    "  echo \"<p>Hash of the \".\\$salt.\"+\".\\$weakpass.\" is \".md5(\\$strongpass).\"</p>\";\n",
    "?>\n",
    "```\n",
    "\n",
    "But this can still be hacked if someone gets hold of the salt string "
   ]
  },
  {
   "cell_type": "markdown",
   "metadata": {},
   "source": [
    "### Stronger encryption\n",
    "\n",
    "Instead of salt string append md5 of user id, eg,\n",
    "\n",
    "```php\n",
    "<?php\n",
    "md5(md5($row['id']).password);\n",
    "?>\n",
    "```\n",
    "\n",
    "Make sure the salt string is static. Otherwise, if the someone updates the database, the password will change without notice to user"
   ]
  },
  {
   "cell_type": "markdown",
   "metadata": {},
   "source": [
    "**Above all, nothing is stronger than a password with tough mix of words, numbers and characters** "
   ]
  },
  {
   "cell_type": "markdown",
   "metadata": {},
   "source": [
    "### Output:\n",
    "\n",
    "<div class=\"alert alert-block alert-info\">\n",
    "\n",
    "<html>\n",
    "  <head>\n",
    "    <title> My WebPage </title>\n",
    "  </head>\n",
    "  <body>\n",
    "      <p><a href =\"http://aravindsankaran-com.stackstaging.com/mySQL/files/strong_passwords.php\" > Click here for output </a></p>\n",
    "  </body>\n",
    "</html>\n",
    "</div>"
   ]
  },
  {
   "cell_type": "code",
   "execution_count": null,
   "metadata": {},
   "outputs": [],
   "source": []
  }
 ],
 "metadata": {
  "kernelspec": {
   "display_name": "Python 3",
   "language": "python",
   "name": "python3"
  },
  "language_info": {
   "codemirror_mode": {
    "name": "ipython",
    "version": 3
   },
   "file_extension": ".py",
   "mimetype": "text/x-python",
   "name": "python",
   "nbconvert_exporter": "python",
   "pygments_lexer": "ipython3",
   "version": "3.4.3"
  }
 },
 "nbformat": 4,
 "nbformat_minor": 2
}
