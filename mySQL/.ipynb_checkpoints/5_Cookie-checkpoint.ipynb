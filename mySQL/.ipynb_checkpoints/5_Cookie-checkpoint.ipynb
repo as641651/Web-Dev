{
 "cells": [
  {
   "cell_type": "markdown",
   "metadata": {},
   "source": [
    "## Cookies\n",
    "\n",
    "Cookies are used to remain logged in for certain period of time. After the time expires, you ll be logged out\n",
    "\n",
    "**To Set Cookie**\n",
    "\n",
    "```php\n",
    "<?php\n",
    "// params: key,value,time in sec\n",
    "setcookie(\"email\",\"set\",time() + 60);\n",
    "?>\n",
    "```\n",
    "\n",
    "**To unset cookie**\n",
    "Set time in past\n",
    "```php\n",
    "<?php\n",
    "setcookie(\"email\",\"set\",time() - 60);\n",
    "?>\n",
    "```\n",
    "\n",
    "To demonstrate this, we again need two scripts"
   ]
  },
  {
   "cell_type": "markdown",
   "metadata": {},
   "source": [
    "> **cookie_email_signin.php**, which sets the session variable at successful login\n",
    "\n",
    "```php\n",
    "    <?php\n",
    "\n",
    "      //Check if password matches\n",
    "      while(\\$row = mysqli_fetch_array(\\$result)){\n",
    "        if(\\$row['password'] == \\$_POST['password']){\n",
    "          //SET COOKIE for 1 minute\n",
    "          setcookie(\"email\",\"set\",time() + 60);\n",
    "          //REDIRECT\n",
    "          header(\"Location: cookies.php\");\n",
    "        }else{\n",
    "          echo \"Wrong password!\";\n",
    "    ?>\n",
    "    \n",
    "```\n",
    "\n",
    "> **cookies.php**\n",
    "```php\n",
    "  <?php\n",
    "    if(array_key_exists('email',$_COOKIE)){\n",
    "      echo \"You are logged in using cookie! You ll be logged off in 1 min.\";\n",
    "    }else{\n",
    "      header(\"Location: cookie_email_signin.php\");\n",
    "    }\n",
    "  ?>\n",
    " ```"
   ]
  },
  {
   "cell_type": "markdown",
   "metadata": {},
   "source": [
    "### Output:\n",
    "\n",
    "<div class=\"alert alert-block alert-info\">\n",
    "\n",
    "<html>\n",
    "  <head>\n",
    "    <title> My WebPage </title>\n",
    "  </head>\n",
    "  <body>\n",
    "      <p><a href =\"http://aravindsankaran-com.stackstaging.com/mySQL/files/cookie_email_signin.php\" > Click here for output </a></p>\n",
    "  </body>\n",
    "</html>\n",
    "</div>"
   ]
  },
  {
   "cell_type": "code",
   "execution_count": null,
   "metadata": {},
   "outputs": [],
   "source": []
  }
 ],
 "metadata": {
  "kernelspec": {
   "display_name": "Python 3",
   "language": "python",
   "name": "python3"
  },
  "language_info": {
   "codemirror_mode": {
    "name": "ipython",
    "version": 3
   },
   "file_extension": ".py",
   "mimetype": "text/x-python",
   "name": "python",
   "nbconvert_exporter": "python",
   "pygments_lexer": "ipython3",
   "version": "3.4.3"
  }
 },
 "nbformat": 4,
 "nbformat_minor": 2
}
