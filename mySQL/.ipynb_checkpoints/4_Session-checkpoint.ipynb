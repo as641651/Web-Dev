{
 "cells": [
  {
   "cell_type": "markdown",
   "metadata": {},
   "source": [
    "## Session\n",
    "\n",
    "Sessions are used for redirecting the page after loggin in.\n",
    "\n",
    "To demonstrate this, we write two scripts, both of which initiate session,\n",
    "\n",
    "```php\n",
    "<?php\n",
    "  session_start();\n",
    "?>\n",
    "```\n",
    "\n",
    "> **email_signin.php**, which sets the session variable at successful login\n",
    "\n",
    "```php\n",
    "    <?php\n",
    "\n",
    "      //Check if password matches\n",
    "      while(\\$row = mysqli_fetch_array(\\$result)){\n",
    "        if(\\$row['password'] == \\$_POST['password']){\n",
    "          //SET SESSION VARIABLE\n",
    "          \\$_SESSION['email'] = \\$_POST['email'];\n",
    "          //REDIRECT\n",
    "          header(\"Location: session.php\");\n",
    "        }else{\n",
    "          echo \"Wrong password!\";\n",
    "    ?>\n",
    "    \n",
    "```\n",
    "\n",
    "> **session.php**\n",
    "```php\n",
    "  <?php\n",
    "  if($_SESSION['email']){\n",
    "    echo \"You are logged in!\";\n",
    "  }else{\n",
    "    header(\"Location: email_signin.php\");\n",
    "  }\n",
    "  ?>\n",
    " ```"
   ]
  },
  {
   "cell_type": "markdown",
   "metadata": {},
   "source": [
    "### Output:\n",
    "\n",
    "<div class=\"alert alert-block alert-info\">\n",
    "\n",
    "<html>\n",
    "  <head>\n",
    "    <title> My WebPage </title>\n",
    "  </head>\n",
    "  <body>\n",
    "      <p><a href =\"http://aravindsankaran-com.stackstaging.com/mySQL/files/email_signin.php\" > Click here for output </a></p>\n",
    "  </body>\n",
    "</html>\n",
    "</div>"
   ]
  },
  {
   "cell_type": "code",
   "execution_count": null,
   "metadata": {},
   "outputs": [],
   "source": []
  }
 ],
 "metadata": {
  "kernelspec": {
   "display_name": "Python 3",
   "language": "python",
   "name": "python3"
  },
  "language_info": {
   "codemirror_mode": {
    "name": "ipython",
    "version": 3
   },
   "file_extension": ".py",
   "mimetype": "text/x-python",
   "name": "python",
   "nbconvert_exporter": "python",
   "pygments_lexer": "ipython3",
   "version": "3.4.3"
  }
 },
 "nbformat": 4,
 "nbformat_minor": 2
}
