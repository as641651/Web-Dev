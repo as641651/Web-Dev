{
 "cells": [
  {
   "cell_type": "markdown",
   "metadata": {},
   "source": [
    "## Insert and Update database\n",
    "\n",
    "View the database from ecowebhosting account"
   ]
  },
  {
   "cell_type": "markdown",
   "metadata": {},
   "source": [
    "```php\n",
    "\n",
    "<?php\n",
    "\n",
    "  //CONNECT TO DB\n",
    "  \\$servername = \"shareddb-h.hosting.stackcp.net\";\n",
    "  \\$username = \"userdata-3333f633\";\n",
    "  \\$password = \"lifvkvf1ie\";\n",
    "  \\$databasename = \\$username; //Same in eco webhosting server\n",
    "\n",
    "  \\$link = mysqli_connect(\\$servername,\\$username,\\$password,\\$databasename);\n",
    "\n",
    "  if (mysqli_connect_error()){\n",
    "    // Stop the script if connection is not established!\n",
    "    die(\"There was an error connecting to database\");\n",
    "  }\n",
    "\n",
    "  //INSERT DATA\n",
    "\n",
    "  //Good to use `` for field names and '' for Values in SQL, although it will work without them\n",
    "  //Works without specifying `id` (auto increments), but we use it here to prevent insertion of duplicate entries while refreshing\n",
    "  \\$query = \"INSERT INTO `users` (`id`,`email`,`password`) VALUES('4','srh@ipl.com', 'imagreatloser')\";\n",
    "  if(\\$out = mysqli_query(\\$link,\\$query)){\n",
    "    echo \"<p>INSERTED new data</p>\";\n",
    "  }else{\n",
    "    //Prints error when id already exists\n",
    "    echo mysqli_error(\\$link);\n",
    "  }\n",
    "\n",
    "  //UPDATE DATA\n",
    "\n",
    "  //Without WHERE, email will be updated for all entries, LIMIT 1 is an extra safety that limits updates to 1 entry\n",
    "  // NOtice LIMIT 1 and not LIMIT=1\n",
    "  \\$query = \"UPDATE `users` SET email = 'csk@ipl.com' WHERE id=2 LIMIT 1\";\n",
    "  if(\\$out = mysqli_query(\\$link,\\$query)){\n",
    "    echo \"<p>UPDATED data</p>\";\n",
    "  }else{\n",
    "    echo \"<br />\".mysqli_error(\\$link);\n",
    "  }\n",
    "\n",
    "?>\n",
    "```"
   ]
  },
  {
   "cell_type": "markdown",
   "metadata": {},
   "source": [
    "### Output:\n",
    "\n",
    "<div class=\"alert alert-block alert-info\">\n",
    "\n",
    "<html>\n",
    "  <head>\n",
    "    <title> My WebPage </title>\n",
    "  </head>\n",
    "  <body>\n",
    "      <p><a href =\"http://aravindsankaran-com.stackstaging.com/mySQL/files/update_db.php\" > Click here for output </a></p>\n",
    "  </body>\n",
    "</html>\n",
    "</div>"
   ]
  },
  {
   "cell_type": "code",
   "execution_count": null,
   "metadata": {},
   "outputs": [],
   "source": []
  }
 ],
 "metadata": {
  "kernelspec": {
   "display_name": "Python 3",
   "language": "python",
   "name": "python3"
  },
  "language_info": {
   "codemirror_mode": {
    "name": "ipython",
    "version": 3
   },
   "file_extension": ".py",
   "mimetype": "text/x-python",
   "name": "python",
   "nbconvert_exporter": "python",
   "pygments_lexer": "ipython3",
   "version": "3.4.3"
  }
 },
 "nbformat": 4,
 "nbformat_minor": 2
}
