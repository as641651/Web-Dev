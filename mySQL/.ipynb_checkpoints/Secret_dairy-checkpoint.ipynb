{
 "cells": [
  {
   "cell_type": "markdown",
   "metadata": {},
   "source": [
    "## Secret Dairy\n",
    "\n",
    "Create a system that stores private notes for each user"
   ]
  },
  {
   "cell_type": "markdown",
   "metadata": {},
   "source": [
    "**Skeleton**\n",
    "\n",
    "> **secret_dairy.php** signs up the user. If loggin in, the email and password are verified and redircted to **loggedinpage.php**  \n",
    "\n",
    "> **cookies** allows the user to be logged in even after restarting the browser (not tab!)\n",
    "\n",
    "> When **secret_dairy.php** is opened, it checks for cookies and session variables, if exists, teh page is redirected to **loggedinpage.php**\n",
    "\n",
    "> When logged out from **loggedinpage.php**, we are redirected to **secret_dairy.php** with **GET** variable **logout=1**, which is user to clear cookies and sessions"
   ]
  },
  {
   "cell_type": "markdown",
   "metadata": {},
   "source": [
    "### Output:\n",
    "\n",
    "<div class=\"alert alert-block alert-info\">\n",
    "\n",
    "<html>\n",
    "  <head>\n",
    "    <title> My WebPage </title>\n",
    "  </head>\n",
    "  <body>\n",
    "      <p><a href =\"http://aravindsankaran-com.stackstaging.com/mySQL/files/secret_dairy/skeleton/secret_dairy.php\" > Click here for output </a></p>\n",
    "  </body>\n",
    "</html>\n",
    "</div>"
   ]
  },
  {
   "cell_type": "markdown",
   "metadata": {},
   "source": [
    "### Organized code:\n",
    "\n",
    "> **index.php** containes the **bootstrap powered** login/signup page\n",
    "\n",
    "> **connection.php** contains the script that connects to database. This script should be kept secured as it contains the password\n",
    "```php\n",
    "<?php\n",
    "mysqli_connect(\\$servername,\\$username,\\$password,\\$databasename);\n",
    "?>\n",
    "```\n",
    "\n",
    "> **backend.php** contains the script that verifies form details, updates database on signup, checks for session/cookies and logs in\n",
    "\n",
    ">**signedin.php** contains **bootstrap powered** log in page. This script obtaines the dairy contents from database and displays it in the textarea at startup. When text area is changed, it updates the database without having to refresh the page (**using ajax**) (**NOTE :** The jquery script imported in the bootstrap startup does not work)\n"
   ]
  },
  {
   "cell_type": "markdown",
   "metadata": {},
   "source": [
    "### Output:\n",
    "\n",
    "<div class=\"alert alert-block alert-info\">\n",
    "\n",
    "<html>\n",
    "  <head>\n",
    "    <title> My WebPage </title>\n",
    "  </head>\n",
    "  <body>\n",
    "      <p><a href =\"http://aravindsankaran-com.stackstaging.com/mySQL/files/secret_dairy\" > Click here for output </a></p>\n",
    "  </body>\n",
    "</html>\n",
    "</div>"
   ]
  },
  {
   "cell_type": "code",
   "execution_count": null,
   "metadata": {},
   "outputs": [],
   "source": []
  }
 ],
 "metadata": {
  "kernelspec": {
   "display_name": "Python 3",
   "language": "python",
   "name": "python3"
  },
  "language_info": {
   "codemirror_mode": {
    "name": "ipython",
    "version": 3
   },
   "file_extension": ".py",
   "mimetype": "text/x-python",
   "name": "python",
   "nbconvert_exporter": "python",
   "pygments_lexer": "ipython3",
   "version": "3.4.3"
  }
 },
 "nbformat": 4,
 "nbformat_minor": 2
}
