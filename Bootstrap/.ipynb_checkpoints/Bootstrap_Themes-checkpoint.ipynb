{
 "cells": [
  {
   "cell_type": "markdown",
   "metadata": {},
   "source": [
    "## Bootstrap themes\n",
    "\n",
    "Enter the login details and Download it from [here!](https://www.ecowebhosting.co.uk/cp/profile)\n",
    "\n",
    "<img src=\"html/eco_ss.png\" />\n",
    "\n",
    "Open **docs/index.html** in the corresponding theme folder to edit the html"
   ]
  },
  {
   "cell_type": "code",
   "execution_count": null,
   "metadata": {},
   "outputs": [],
   "source": []
  }
 ],
 "metadata": {
  "kernelspec": {
   "display_name": "Python 3",
   "language": "python",
   "name": "python3"
  },
  "language_info": {
   "codemirror_mode": {
    "name": "ipython",
    "version": 3
   },
   "file_extension": ".py",
   "mimetype": "text/x-python",
   "name": "python",
   "nbconvert_exporter": "python",
   "pygments_lexer": "ipython3",
   "version": "3.4.3"
  }
 },
 "nbformat": 4,
 "nbformat_minor": 2
}
