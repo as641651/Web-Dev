{
 "cells": [
  {
   "cell_type": "markdown",
   "metadata": {},
   "source": [
    "## Word press"
   ]
  },
  {
   "cell_type": "markdown",
   "metadata": {},
   "source": [
    "### Set up\n",
    "\n",
    ">1) Log in to [eco-webhosting account](https://www.ecowebhosting.co.uk/cp/profile)\n",
    "\n",
    ">2) Manage hosting packages --> Select domain ---> Install wordpress in a directory (say wordpress)\n",
    "\n",
    ">3) Access wordpress dashboard at [http://aravindsankaran-com.stackstaging.com/wordpress/wp-admin/](http://aravindsankaran-com.stackstaging.com/wordpress/wp-admin/)\n",
    "\n",
    ">4) To change the website title or profile details, click on **settings** from the left panel"
   ]
  },
  {
   "cell_type": "markdown",
   "metadata": {},
   "source": [
    "### Creating Post\n",
    "\n",
    ">1) On the left panel, click **Posts**\n",
    "\n",
    ">2) It can be edited both visually and in html format (Toggle the handles at the top right corner of the editor)\n",
    "\n",
    ">3) Edit content and **preview changes** (in the right panel)\n",
    "\n",
    ">4) After editing, click **update** to publish the changes. You can also revert to previous versions"
   ]
  },
  {
   "cell_type": "markdown",
   "metadata": {},
   "source": [
    "### Adding users to site\n",
    "\n",
    ">1) Quite often there are many people working ona website. So the admin can add other users and clients by adding them through the **user** option in the left panel and control their access"
   ]
  },
  {
   "cell_type": "markdown",
   "metadata": {},
   "source": [
    "### Plugins\n",
    "\n",
    ">1) Plugins to see site traffic, creating secure login and much more are available"
   ]
  },
  {
   "cell_type": "code",
   "execution_count": null,
   "metadata": {},
   "outputs": [],
   "source": []
  }
 ],
 "metadata": {
  "kernelspec": {
   "display_name": "Python 3",
   "language": "python",
   "name": "python3"
  },
  "language_info": {
   "codemirror_mode": {
    "name": "ipython",
    "version": 3
   },
   "file_extension": ".py",
   "mimetype": "text/x-python",
   "name": "python",
   "nbconvert_exporter": "python",
   "pygments_lexer": "ipython3",
   "version": "3.4.3"
  }
 },
 "nbformat": 4,
 "nbformat_minor": 2
}
