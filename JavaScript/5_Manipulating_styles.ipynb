{
 "cells": [
  {
   "cell_type": "markdown",
   "metadata": {},
   "source": [
    "## Manipulating styles"
   ]
  },
  {
   "cell_type": "markdown",
   "metadata": {},
   "source": [
    "```html\n",
    "<html>\n",
    "  <head>\n",
    "    <title> Java Script </title>\n",
    "\n",
    "    <style type=\"text/css\">\n",
    "\n",
    "    .applystyle{\n",
    "      width:150px;\n",
    "      height: 100px;\n",
    "      background-color: red;\n",
    "      border: 20px solid orange;\n",
    "      border-radius: 15px;\n",
    "      font-weight: bold;\n",
    "      color: white;\n",
    "      text-align: center;\n",
    "    }\n",
    "\n",
    "\n",
    "    </style>\n",
    "\n",
    "  </head>\n",
    "  <body>\n",
    "\n",
    "    <p id=\"text\">\n",
    "      Change style with CSS!\n",
    "    </p>\n",
    "\n",
    "    <p id=\"text1\">\n",
    "      Change style within javascript!\n",
    "    </p>\n",
    "\n",
    "    <p>\n",
    "      <h1 id=\"text2\"> <!-- style wont be applied if the id belongs to outer element -->\n",
    "        This text will dissapear!\n",
    "      </h1>\n",
    "    </p>\n",
    "\n",
    "\n",
    "    <button id=\"styleButton\">Change style</button>\n",
    "\n",
    "    <script type=\"text/javascript\">\n",
    "\n",
    "      document.getElementById('styleButton').onclick = function(){\n",
    "\n",
    "        /* Add a class to an element */\n",
    "        document.getElementById(\"text\").className = \"applystyle\";\n",
    "\n",
    "        /*Change style using .style */\n",
    "        document.getElementById(\"text1\").style.fontSize = \"40px\";\n",
    "\n",
    "        /*Text dissapears */\n",
    "        document.getElementById(\"text2\").style.display = \"none\";\n",
    "\n",
    "      }\n",
    "\n",
    "\n",
    "    </script>\n",
    "  </body>\n",
    "\n",
    "</html>\n",
    "```"
   ]
  },
  {
   "cell_type": "markdown",
   "metadata": {},
   "source": [
    "### Output:\n",
    "\n",
    "<div class=\"alert alert-block alert-info\">\n",
    "\n",
    "<html>\n",
    "  <head>\n",
    "    <title> My WebPage </title>\n",
    "  </head>\n",
    "  <body>\n",
    "      <p><a href =\"html/5_manipulating_styles.html\" > Click here for output </a></p>\n",
    "  </body>\n",
    "</html>\n",
    "</div>"
   ]
  },
  {
   "cell_type": "code",
   "execution_count": null,
   "metadata": {},
   "outputs": [],
   "source": []
  }
 ],
 "metadata": {
  "kernelspec": {
   "display_name": "Python 3",
   "language": "python",
   "name": "python3"
  },
  "language_info": {
   "codemirror_mode": {
    "name": "ipython",
    "version": 3
   },
   "file_extension": ".py",
   "mimetype": "text/x-python",
   "name": "python",
   "nbconvert_exporter": "python",
   "pygments_lexer": "ipython3",
   "version": "3.4.3"
  }
 },
 "nbformat": 4,
 "nbformat_minor": 2
}
