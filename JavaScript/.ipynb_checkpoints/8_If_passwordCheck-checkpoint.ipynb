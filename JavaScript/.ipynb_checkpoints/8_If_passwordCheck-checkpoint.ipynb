{
 "cells": [
  {
   "cell_type": "markdown",
   "metadata": {},
   "source": [
    "## If statement - Password checking"
   ]
  },
  {
   "cell_type": "markdown",
   "metadata": {},
   "source": [
    "```html\n",
    "\n",
    "<html>\n",
    "  <head>\n",
    "    <title> Java Script </title>\n",
    "\n",
    "    <style type=\"text/css\">\n",
    "\n",
    "    </style>\n",
    "\n",
    "  </head>\n",
    "  <body>\n",
    "\n",
    "    <p>What is the magic word?</p>\n",
    "\n",
    "    <p><input type=\"text\" id=\"magic\" /></p>\n",
    "\n",
    "    <p><button id=\"enter\">Enter</button></p>\n",
    "\n",
    "    <script type=\"text/javascript\">\n",
    "\n",
    "      document.getElementById('enter').onclick = function(){\n",
    "\n",
    "        var magic_word = \"aravind\";\n",
    "        var word_entered = document.getElementById('magic').value;\n",
    "\n",
    "        if (word_entered == magic_word){\n",
    "          alert(\"Correct!\");\n",
    "        }else{\n",
    "          alert(\"Wrong!\");\n",
    "        }\n",
    "      }\n",
    "\n",
    "    </script>\n",
    "  </body>\n",
    "\n",
    "</html>\n",
    "\n",
    "```"
   ]
  },
  {
   "cell_type": "markdown",
   "metadata": {},
   "source": [
    "### Output:\n",
    "\n",
    "**Note**: Password is \"aravind\"\n",
    "\n",
    "<div class=\"alert alert-block alert-info\">\n",
    "\n",
    "<html>\n",
    "  <head>\n",
    "    <title> My WebPage </title>\n",
    "  </head>\n",
    "  <body>\n",
    "      <p><a href =\"html/8_if.html\" > Click here for output </a></p>\n",
    "  </body>\n",
    "</html>\n",
    "</div>"
   ]
  },
  {
   "cell_type": "code",
   "execution_count": null,
   "metadata": {},
   "outputs": [],
   "source": []
  }
 ],
 "metadata": {
  "kernelspec": {
   "display_name": "Python 3",
   "language": "python",
   "name": "python3"
  },
  "language_info": {
   "codemirror_mode": {
    "name": "ipython",
    "version": 3
   },
   "file_extension": ".py",
   "mimetype": "text/x-python",
   "name": "python",
   "nbconvert_exporter": "python",
   "pygments_lexer": "ipython3",
   "version": "3.4.3"
  }
 },
 "nbformat": 4,
 "nbformat_minor": 2
}
