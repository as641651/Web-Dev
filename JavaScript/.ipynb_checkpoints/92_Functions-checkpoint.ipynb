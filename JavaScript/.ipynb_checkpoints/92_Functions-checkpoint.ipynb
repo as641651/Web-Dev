{
 "cells": [
  {
   "cell_type": "markdown",
   "metadata": {},
   "source": [
    "## Functions"
   ]
  },
  {
   "cell_type": "markdown",
   "metadata": {},
   "source": [
    "```html\n",
    "\n",
    "<html>\n",
    "  <head>\n",
    "    <title> Java Script </title>\n",
    "\n",
    "    <style type=\"text/css\">\n",
    "\n",
    "    </style>\n",
    "\n",
    "  </head>\n",
    "  <body>\n",
    "\n",
    "\n",
    "    </div>\n",
    "\n",
    "    <script type=\"text/javascript\">\n",
    "\n",
    "      function avg(a,b){\n",
    "        return (a+b)/2.;\n",
    "      }\n",
    "\n",
    "      function sumArray(a){\n",
    "        var sum = a.reduce(function(a, b) { return a + b; });\n",
    "        return sum;\n",
    "      }\n",
    "\n",
    "      alert(avg(4,8));\n",
    "      var a = [1,2,3,10];\n",
    "      alert(sumArray(a));\n",
    "\n",
    "    </script>\n",
    "\n",
    "  </body>\n",
    "\n",
    "</html>\n",
    "```"
   ]
  },
  {
   "cell_type": "markdown",
   "metadata": {},
   "source": [
    "### Output:\n",
    "\n",
    "<div class=\"alert alert-block alert-info\">\n",
    "\n",
    "<html>\n",
    "  <head>\n",
    "    <title> My WebPage </title>\n",
    "  </head>\n",
    "  <body>\n",
    "      <p><a href =\"html/92_function.html\" > Click here for output </a></p>\n",
    "  </body>\n",
    "</html>\n",
    "</div>"
   ]
  },
  {
   "cell_type": "code",
   "execution_count": null,
   "metadata": {},
   "outputs": [],
   "source": []
  }
 ],
 "metadata": {
  "kernelspec": {
   "display_name": "Python 3",
   "language": "python",
   "name": "python3"
  },
  "language_info": {
   "codemirror_mode": {
    "name": "ipython",
    "version": 3
   },
   "file_extension": ".py",
   "mimetype": "text/x-python",
   "name": "python",
   "nbconvert_exporter": "python",
   "pygments_lexer": "ipython3",
   "version": "3.4.3"
  }
 },
 "nbformat": 4,
 "nbformat_minor": 2
}
