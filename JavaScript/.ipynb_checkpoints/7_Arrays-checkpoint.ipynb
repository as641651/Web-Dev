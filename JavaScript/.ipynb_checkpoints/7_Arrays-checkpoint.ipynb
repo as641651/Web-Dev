{
 "cells": [
  {
   "cell_type": "markdown",
   "metadata": {},
   "source": [
    "## Arrays\n",
    "\n",
    "Array operations - Creation, appending, inserting, remove and replace\n"
   ]
  },
  {
   "cell_type": "markdown",
   "metadata": {},
   "source": [
    "```html\n",
    "\n",
    "<html>\n",
    "  <head>\n",
    "    <title> Java Script </title>\n",
    "\n",
    "    <style type=\"text/css\">\n",
    "\n",
    "    </style>\n",
    "\n",
    "  </head>\n",
    "  <body>\n",
    "\n",
    "    <script type=\"text/javascript\">\n",
    "\n",
    "     // Creating array\n",
    "      var myArray = new Array();\n",
    "\n",
    "      myArray[0] = \"pizza\";\n",
    "      myArray[1] = \"burger\";\n",
    "      myArray[2] = \"pasta\";\n",
    "\n",
    "      alert(myArray + \"\\nlength :\" + myArray.length);\n",
    "\n",
    "      // Prints on the console.helps with debugging\n",
    "      console.log(myArray);\n",
    "\n",
    "      //Another way of creating array\n",
    "      var tweets = [\"morning!\", \"hello\", \"coffee!!\"];\n",
    "      console.log(tweets);\n",
    "\n",
    "      //Appending items at the end\n",
    "      tweets.push(\"New tweet!\");\n",
    "      console.log(tweets);\n",
    "\n",
    "      //Removing items\n",
    "      tweets.splice(1,1) //Delete 1 tweet starting at item 1. (Hello is deleted)\n",
    "      console.log(tweets);\n",
    "\n",
    "      tweets.splice(1,2);\n",
    "      console.log(tweets); //Deletes coffee and new tweet\n",
    "\n",
    "      //Adding an element before an items\n",
    "      //Add elememnt before 0th item\n",
    "      tweets.splice(0,0,\"First tweet!\") //[first tweet, morning]\n",
    "      //Add element before 1st item\n",
    "      tweets.splice(1,0,\"Second tweet!\") // first tweet,second tweet ,morning]\n",
    "      console.log(tweets);\n",
    "\n",
    "      //Replace and insert items\n",
    "      tweets.splice(1,1, \"replaced second tweet\", \"mum\"); //[first tweet, replaced sec tweet, mum, morning]\n",
    "      console.log(tweets);\n",
    "      //Can also replace with index\n",
    "      tweets[0] = \"index replace\";\n",
    "      console.log(tweets);\n",
    "\n",
    "\n",
    "    </script>\n",
    "  </body>\n",
    "\n",
    "</html>\n",
    "\n",
    "```"
   ]
  },
  {
   "cell_type": "markdown",
   "metadata": {},
   "source": [
    "### Output:\n",
    "\n",
    "**Note :** Inspect element and view the console to see the log\n",
    "\n",
    "<div class=\"alert alert-block alert-info\">\n",
    "\n",
    "<html>\n",
    "  <head>\n",
    "    <title> My WebPage </title>\n",
    "  </head>\n",
    "  <body>\n",
    "      <p><a href =\"html/7_arrays.html\" > Click here for output </a></p>\n",
    "  </body>\n",
    "</html>\n",
    "</div>"
   ]
  },
  {
   "cell_type": "code",
   "execution_count": null,
   "metadata": {},
   "outputs": [],
   "source": []
  }
 ],
 "metadata": {
  "kernelspec": {
   "display_name": "Python 3",
   "language": "python",
   "name": "python3"
  },
  "language_info": {
   "codemirror_mode": {
    "name": "ipython",
    "version": 3
   },
   "file_extension": ".py",
   "mimetype": "text/x-python",
   "name": "python",
   "nbconvert_exporter": "python",
   "pygments_lexer": "ipython3",
   "version": "3.4.3"
  }
 },
 "nbformat": 4,
 "nbformat_minor": 2
}
