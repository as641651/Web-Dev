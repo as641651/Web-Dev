{
 "cells": [
  {
   "cell_type": "markdown",
   "metadata": {},
   "source": [
    "## Script\n",
    "\n",
    "**script** section executes the javascript\n",
    "\n",
    "**Remember**\n",
    "> The script section should be placed at the end of the body"
   ]
  },
  {
   "cell_type": "markdown",
   "metadata": {},
   "source": [
    "```html\n",
    "\n",
    "<html>\n",
    "  <head>\n",
    "    <title> Java Script </title>\n",
    "\n",
    "  </head>\n",
    "  <body>\n",
    "\n",
    "    <p id=\"text\">\n",
    "      Hello World!\n",
    "    </p>\n",
    "\n",
    "    <!-- The section that executes javascripts. Place it at the end of body -->\n",
    "    <script type=\"text/jscript\">\n",
    "\n",
    "      /*These commands can be executed in the console\n",
    "      (Right click page -> inspect element -> console tab)\n",
    "      It shows errors in  java scripts*/\n",
    "\n",
    "      /* Executes on starting web page */\n",
    "      alert(\"Page is loaded\");\n",
    "\n",
    "      /*Looks for indications within the document (body)\n",
    "      \"innerHTML does not work when the script is placed in the head section\"\n",
    "      ---> Changes \"Hello World\" to \"HR\"*/\n",
    "      document.getElementById(\"text\").innerHTML = \"HR\";\n",
    "      \n",
    "\n",
    "    </script>\n",
    "  </body>\n",
    "\n",
    "</html>\n",
    "```"
   ]
  },
  {
   "cell_type": "markdown",
   "metadata": {},
   "source": [
    "### Output:\n",
    "\n",
    "<div class=\"alert alert-block alert-info\">\n",
    "\n",
    "<html>\n",
    "  <head>\n",
    "    <title> My WebPage </title>\n",
    "  </head>\n",
    "  <body>\n",
    "      <p><a href =\"html/2_script.html\" > Click here for output </a></p>\n",
    "  </body>\n",
    "</html>\n",
    "</div>"
   ]
  },
  {
   "cell_type": "code",
   "execution_count": null,
   "metadata": {},
   "outputs": [],
   "source": []
  }
 ],
 "metadata": {
  "kernelspec": {
   "display_name": "Python 3",
   "language": "python",
   "name": "python3"
  },
  "language_info": {
   "codemirror_mode": {
    "name": "ipython",
    "version": 3
   },
   "file_extension": ".py",
   "mimetype": "text/x-python",
   "name": "python",
   "nbconvert_exporter": "python",
   "pygments_lexer": "ipython3",
   "version": "3.4.3"
  }
 },
 "nbformat": 4,
 "nbformat_minor": 2
}
