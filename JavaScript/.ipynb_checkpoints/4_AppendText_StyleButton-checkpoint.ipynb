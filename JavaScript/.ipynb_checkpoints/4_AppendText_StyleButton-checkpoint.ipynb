{
 "cells": [
  {
   "cell_type": "markdown",
   "metadata": {},
   "source": [
    "## Appending on Click and Styled button"
   ]
  },
  {
   "cell_type": "markdown",
   "metadata": {},
   "source": [
    "```html\n",
    "\n",
    "<html>\n",
    "  <head>\n",
    "    <title> Java Script </title>\n",
    "\n",
    "    <style type=\"text/css\">\n",
    "\n",
    "    #styleButton{\n",
    "      width:150px;\n",
    "      height: 100px;\n",
    "      background-color: red;\n",
    "      border: 20px solid orange;\n",
    "      border-radius: 15px;\n",
    "      font-weight: bold;\n",
    "      color: white;\n",
    "    }\n",
    "\n",
    "    #styleButton:hover{\n",
    "      border-color: lightblue;\n",
    "    }\n",
    "\n",
    "    #styleButton:active{\n",
    "      background-color: darkgreen;\n",
    "    }\n",
    "\n",
    "    </style>\n",
    "\n",
    "  </head>\n",
    "  <body>\n",
    "\n",
    "    <p id=\"text\">\n",
    "      Javascript is\n",
    "    </p>\n",
    "\n",
    "\n",
    "    <!-- Applying style to button -->\n",
    "    <button id=\"styleButton\">Append Text</button>\n",
    "\n",
    "    <script type=\"text/javascript\">\n",
    "\n",
    "      document.getElementById('styleButton').onclick = function(){\n",
    "\n",
    "        /* Appends text on click */\n",
    "        document.getElementById(\"text\").innerHTML += \"<h2>awesome</h2>\";\n",
    "\n",
    "      }\n",
    "\n",
    "\n",
    "    </script>\n",
    "  </body>\n",
    "\n",
    "</html>\n",
    "\n",
    "```"
   ]
  },
  {
   "cell_type": "markdown",
   "metadata": {},
   "source": [
    "### Output:\n",
    "\n",
    "<div class=\"alert alert-block alert-info\">\n",
    "\n",
    "<html>\n",
    "  <head>\n",
    "    <title> My WebPage </title>\n",
    "  </head>\n",
    "  <body>\n",
    "      <p><a href =\"html/4_appendText_styleButton.html\" > Click here for output </a></p>\n",
    "  </body>\n",
    "</html>\n",
    "</div>"
   ]
  },
  {
   "cell_type": "code",
   "execution_count": null,
   "metadata": {},
   "outputs": [],
   "source": []
  }
 ],
 "metadata": {
  "kernelspec": {
   "display_name": "Python 3",
   "language": "python",
   "name": "python3"
  },
  "language_info": {
   "codemirror_mode": {
    "name": "ipython",
    "version": 3
   },
   "file_extension": ".py",
   "mimetype": "text/x-python",
   "name": "python",
   "nbconvert_exporter": "python",
   "pygments_lexer": "ipython3",
   "version": "3.4.3"
  }
 },
 "nbformat": 4,
 "nbformat_minor": 2
}
