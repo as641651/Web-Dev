{
 "cells": [
  {
   "cell_type": "markdown",
   "metadata": {},
   "source": [
    "## Defining response\n",
    "\n",
    "Changing text on clicking a button"
   ]
  },
  {
   "cell_type": "markdown",
   "metadata": {},
   "source": [
    "```html\n",
    "\n",
    "<html>\n",
    "  <head>\n",
    "    <title> Java Script </title>\n",
    "\n",
    "  </head>\n",
    "  <body>\n",
    "\n",
    "    <p id=\"text\">\n",
    "      Hello World!\n",
    "    </p>\n",
    "\n",
    "    <button id=\"myButton\">Change Text</button>\n",
    "\n",
    "    <script type=\"text/javascript\">\n",
    "\n",
    "      document.getElementById('myButton').onclick = function(){\n",
    "\n",
    "        alert(\"Changing text!\");\n",
    "        document.getElementById(\"text\").innerHTML = \"Text Changed!\";\n",
    "\n",
    "      }\n",
    "\n",
    "    </script>\n",
    "  </body>\n",
    "\n",
    "</html>\n",
    "\n",
    "```"
   ]
  },
  {
   "cell_type": "markdown",
   "metadata": {},
   "source": [
    "### Output:\n",
    "\n",
    "<div class=\"alert alert-block alert-info\">\n",
    "\n",
    "<html>\n",
    "  <head>\n",
    "    <title> My WebPage </title>\n",
    "  </head>\n",
    "  <body>\n",
    "      <p><a href =\"html/3_defining_response.html\" > Click here for output </a></p>\n",
    "  </body>\n",
    "</html>\n",
    "</div>"
   ]
  },
  {
   "cell_type": "code",
   "execution_count": null,
   "metadata": {},
   "outputs": [],
   "source": []
  }
 ],
 "metadata": {
  "kernelspec": {
   "display_name": "Python 3",
   "language": "python",
   "name": "python3"
  },
  "language_info": {
   "codemirror_mode": {
    "name": "ipython",
    "version": 3
   },
   "file_extension": ".py",
   "mimetype": "text/x-python",
   "name": "python",
   "nbconvert_exporter": "python",
   "pygments_lexer": "ipython3",
   "version": "3.4.3"
  }
 },
 "nbformat": 4,
 "nbformat_minor": 2
}
