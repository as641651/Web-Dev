{
 "cells": [
  {
   "cell_type": "markdown",
   "metadata": {},
   "source": [
    "## Random number \n",
    "\n",
    "### Guess the number"
   ]
  },
  {
   "cell_type": "markdown",
   "metadata": {},
   "source": [
    "```html\n",
    "\n",
    "<html>\n",
    "  <head>\n",
    "    <title> Java Script </title>\n",
    "\n",
    "    <style type=\"text/css\">\n",
    "\n",
    "    </style>\n",
    "\n",
    "  </head>\n",
    "  <body>\n",
    "\n",
    "    <p>How many fingers am I holding up?</p>\n",
    "\n",
    "    <p>\n",
    "      <!-- Replce text with null if it is not an int -->\n",
    "      <input type=\"text\"  onkeyup=\"this.value=this.value.replace(/[^\\d]/,'')\"\n",
    "       id=\"magic\" />\n",
    "      <button id=\"enter\">Guess</button>\n",
    "    </p>\n",
    "\n",
    "\n",
    "\n",
    "    <script type=\"text/javascript\">\n",
    "\n",
    "      // Variable to limit the number of clicks\n",
    "      var num_clicks = 0;\n",
    "\n",
    "      document.getElementById('enter').onclick = function(){\n",
    "\n",
    "        num_clicks +=1;\n",
    "        var clicks_left = 6-num_clicks;\n",
    "\n",
    "        // Allow game only if clicks are left\n",
    "        if (clicks_left<0){\n",
    "          alert(\"Guesses over!\");\n",
    "          return;\n",
    "        }\n",
    "        /* Math.random() : generates a random num between 0 and 1\n",
    "          Math.random()*(upper_limit+1) : generates num between 0 and UL */\n",
    "        var random_num = Math.floor(Math.random()*6);\n",
    "\n",
    "        var num_entered = document.getElementById('magic').value;\n",
    "\n",
    "        if (num_entered == random_num){\n",
    "            alert(\"Correct :\" + random_num);\n",
    "        }else{\n",
    "            alert(\"WRONG :\" + random_num + \"\\nClicks left :\" + clicks_left );\n",
    "        }\n",
    "      }\n",
    "\n",
    "    </script>\n",
    "  </body>\n",
    "\n",
    "</html>\n",
    "\n",
    "\n",
    "\n",
    "```"
   ]
  },
  {
   "cell_type": "markdown",
   "metadata": {},
   "source": [
    "### Output:\n",
    "\n",
    "<div class=\"alert alert-block alert-info\">\n",
    "\n",
    "<html>\n",
    "  <head>\n",
    "    <title> My WebPage </title>\n",
    "  </head>\n",
    "  <body>\n",
    "      <p><a href =\"html/9_random.html\" > Click here for output </a></p>\n",
    "  </body>\n",
    "</html>\n",
    "</div>"
   ]
  }
 ],
 "metadata": {
  "kernelspec": {
   "display_name": "Python 3",
   "language": "python",
   "name": "python3"
  },
  "language_info": {
   "codemirror_mode": {
    "name": "ipython",
    "version": 3
   },
   "file_extension": ".py",
   "mimetype": "text/x-python",
   "name": "python",
   "nbconvert_exporter": "python",
   "pygments_lexer": "ipython3",
   "version": "3.4.3"
  }
 },
 "nbformat": 4,
 "nbformat_minor": 2
}
