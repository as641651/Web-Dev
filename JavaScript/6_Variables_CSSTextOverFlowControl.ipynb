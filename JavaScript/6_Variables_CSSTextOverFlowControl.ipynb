{
 "cells": [
  {
   "cell_type": "markdown",
   "metadata": {},
   "source": [
    "## Variables & CSS Text overflow control\n",
    "\n",
    "Allows input of text and displays it in a scrollable text area"
   ]
  },
  {
   "cell_type": "markdown",
   "metadata": {},
   "source": [
    "```html\n",
    "\n",
    "<html>\n",
    "  <head>\n",
    "    <title> Java Script </title>\n",
    "\n",
    "    <style type=\"text/css\">\n",
    "\n",
    "      #text-area{\n",
    "        width:400px;\n",
    "        height:100px;\n",
    "        background-color: #CCCCCC;\n",
    "        border : 1px black solid;\n",
    "        margin-top: 15px;\n",
    "        /*Splits a word when border is crossed*/\n",
    "        /*overflow-wrap: break-word;*/\n",
    "        overflow: scroll;\n",
    "      }\n",
    "\n",
    "\n",
    "    </style>\n",
    "\n",
    "  </head>\n",
    "  <body>\n",
    "\n",
    "    <input id = \"input\" type=\"text\" placeholder=\"type here\" />\n",
    "\n",
    "    <!-- Displays text in the input on the text area -->\n",
    "    <button id=\"b1\">Change the text</button>\n",
    "\n",
    "    <div id=\"text-area\">\n",
    "      <p id =\"text\">\n",
    "        This is some text.\n",
    "      </p>\n",
    "    </div>\n",
    "\n",
    "\n",
    "    <script type=\"text/javascript\">\n",
    "\n",
    "    // Variables\n",
    "    var x = 25;\n",
    "    var name = \"Aravind\";\n",
    "    alert(\"Name : \" + name + \"\\nAge :\" + x);\n",
    "\n",
    "    document.getElementById('b1').onclick = function(){\n",
    "\n",
    "      var textEntered =\"\";\n",
    "\n",
    "      textEntered = document.getElementById('input').value;\n",
    "\n",
    "      document.getElementById('text').innerHTML = textEntered;\n",
    "\n",
    "    }\n",
    "\n",
    "\n",
    "    </script>\n",
    "  </body>\n",
    "\n",
    "</html>\n",
    "\n",
    "```"
   ]
  },
  {
   "cell_type": "markdown",
   "metadata": {},
   "source": [
    "### Output:\n",
    "\n",
    "<div class=\"alert alert-block alert-info\">\n",
    "\n",
    "<html>\n",
    "  <head>\n",
    "    <title> My WebPage </title>\n",
    "  </head>\n",
    "  <body>\n",
    "      <p><a href =\"html/6_variables.html\" > Click here for output </a></p>\n",
    "  </body>\n",
    "</html>\n",
    "</div>"
   ]
  },
  {
   "cell_type": "code",
   "execution_count": null,
   "metadata": {},
   "outputs": [],
   "source": []
  }
 ],
 "metadata": {
  "kernelspec": {
   "display_name": "Python 3",
   "language": "python",
   "name": "python3"
  },
  "language_info": {
   "codemirror_mode": {
    "name": "ipython",
    "version": 3
   },
   "file_extension": ".py",
   "mimetype": "text/x-python",
   "name": "python",
   "nbconvert_exporter": "python",
   "pygments_lexer": "ipython3",
   "version": "3.4.3"
  }
 },
 "nbformat": 4,
 "nbformat_minor": 2
}
