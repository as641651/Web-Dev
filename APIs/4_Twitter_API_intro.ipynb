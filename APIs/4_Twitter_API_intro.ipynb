{
 "cells": [
  {
   "cell_type": "markdown",
   "metadata": {},
   "source": [
    "## Twitter API\n",
    "\n",
    "> Log into your twitter account and access [https://apps.twitter.com/](https://apps.twitter.com/)\n",
    "\n",
    "> create new application\n",
    "\n",
    "> You can get the **api key**(can be public) and **api key secret**.\n",
    "\n",
    "> Generate **access tokens** and get the key and secret token "
   ]
  },
  {
   "cell_type": "markdown",
   "metadata": {},
   "source": [
    "### Authorizing access\n",
    "\n",
    "Download [OAuth](https://github.com/abraham/twitteroauth) from git hub\n",
    "\n",
    "```php\n",
    "\n",
    "<?php\n",
    "\n",
    "//Authorize access\n",
    "//Need paths to OAuth folders\n",
    "require \"twitteroauth/autoload.php\";\n",
    "use Abraham\\TwitterOAuth\\TwitterOAuth;\n",
    "\n",
    "//get the keys\n",
    "\\$consumer_key = \"efNal1EAZ357xAk7w3oqNU8B3\";\n",
    "\\$consumer_secret = \"6IvBpYztT6p7zrM3bLvEyMxgVBOwMjmlHasXi0tjfUsg69hr9Z\";\n",
    "\\$access_token = \"894280437089976320-6f5gbN4PBzTibDooyDDSCtu54PlO6gX\";\n",
    "\\$access_token_secret = \"b6I7zoIsTMyrnURXrkNpOKc30o92BgXn8vixza77d9cWd\";\n",
    "\n",
    "//set up connection\n",
    "\\$connection = new TwitterOAuth(\\$consumer_key, \\$consumer_secret, \\$access_token, \\$access_token_secret);\n",
    "\\$content = \\$connection->get(\"account/verify_credentials\");\n",
    "\n",
    "?>\n",
    "\n",
    "```"
   ]
  },
  {
   "cell_type": "markdown",
   "metadata": {},
   "source": [
    "### Accessing information\n",
    "\n",
    "Use **connection->get()** to access the statusus in the timeline and other queries. \n",
    "\n",
    "The **args** for this function call are **decoded from the GET and POST urls**. Look at the OAuth documentation\n",
    "\n",
    "```php\n",
    "<?php\n",
    "//ACCESSING INFO\n",
    "echo \"<h1>View page source</h1>\";\n",
    "\n",
    "//get my user info, location and other profile details\n",
    "print_r(\\$content);\n",
    "\n",
    "echo \"<br /><br />\";\n",
    "\n",
    "//get all the statuses in your time line\n",
    "//args are got from  GET https://api.twitter.com/1.1/\"statuses/home_timeline\".json?\"count=25\"&\"exclude_replies=true\"\n",
    "\\$statuses = \\$connection->get(\"statuses/home_timeline\", [\"count\" => 25, \"exclude_replies\" => true]);\n",
    "\n",
    "//posts tweet in my time line\n",
    "//args : POST https://api.twitter.com/1.1/\"statuses/update\".json?\"status=hello%20world\"\n",
    "//\\$statues = \\$connection->post(\"statuses/update\", [\"status\" => \"hello world\"]);\n",
    "\n",
    "print_r(\\$statuses);\n",
    "?>\n",
    "```"
   ]
  },
  {
   "cell_type": "markdown",
   "metadata": {},
   "source": [
    "### Output:\n",
    "\n",
    "<div class=\"alert alert-block alert-info\">\n",
    "\n",
    "<html>\n",
    "  <head>\n",
    "    <title> My WebPage </title>\n",
    "  </head>\n",
    "  <body>\n",
    "      <p><a href =\"http://aravindsankaran-com.stackstaging.com/APIs/files/Twitter/\" > Click here for output </a></p>\n",
    "  </body>\n",
    "</html>\n",
    "</div>"
   ]
  },
  {
   "cell_type": "code",
   "execution_count": null,
   "metadata": {},
   "outputs": [],
   "source": []
  }
 ],
 "metadata": {
  "kernelspec": {
   "display_name": "Python 3",
   "language": "python",
   "name": "python3"
  },
  "language_info": {
   "codemirror_mode": {
    "name": "ipython",
    "version": 3
   },
   "file_extension": ".py",
   "mimetype": "text/x-python",
   "name": "python",
   "nbconvert_exporter": "python",
   "pygments_lexer": "ipython3",
   "version": "3.4.3"
  }
 },
 "nbformat": 4,
 "nbformat_minor": 2
}
