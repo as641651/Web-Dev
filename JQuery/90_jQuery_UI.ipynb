{
 "cells": [
  {
   "cell_type": "markdown",
   "metadata": {},
   "source": [
    "## jQuery UI\n",
    "\n",
    ">1)  **Download** from jQuery [website](https://jqueryui.com/)\n",
    "\n",
    ">2) Link the **jquery-ui.css** and **jquery-ui.js** files in your script\n"
   ]
  },
  {
   "cell_type": "markdown",
   "metadata": {},
   "source": [
    "```html\n",
    "\n",
    "<html>\n",
    "  <head>\n",
    "    <title> JQuery </title>\n",
    "\n",
    "    <script src=\"jquery-3.3.1.min.js\"></script>\n",
    "\n",
    "    <!-- Linking jQuery-UI -->\n",
    "    <link href=\"html/jquery-ui-1.12.1/jquery-ui.css\" rel=\"stylesheet\">\n",
    "    <script src=\"html/jquery-ui-1.12.1/jquery-ui.js\"></script>\n",
    "\n",
    "    <style type=\"text/css\">\n",
    "\n",
    "\n",
    "\n",
    "    </style>\n",
    "\n",
    "  </head>\n",
    "  <body>\n",
    "\n",
    "    <div id=\"draggable\">\n",
    "        Drag Me!\n",
    "    </div>\n",
    "\n",
    "    <p>\n",
    "      For more detail, click <a href=\"https://jqueryui.com/\">here!</a>\n",
    "    </p>\n",
    "\n",
    "    <p>\n",
    "      For demo script, click <a href=\"/home/sankaran/exercise/ML/Web-Dev/JQuery/html/jquery-ui-1.12.1/index.html\">here!</a>\n",
    "    </p>\n",
    "\n",
    "\n",
    "    <script type=\"text/javascript\">\n",
    "\n",
    "      //  Intilialize a draggable to your id!\n",
    "      $(\"#draggable\").draggable();\n",
    "\n",
    "    </script>\n",
    "\n",
    "  </body>\n",
    "\n",
    "</html>\n",
    "```"
   ]
  },
  {
   "cell_type": "markdown",
   "metadata": {},
   "source": [
    "### Output:\n",
    "\n",
    "<div class=\"alert alert-block alert-info\">\n",
    "\n",
    "<html>\n",
    "  <head>\n",
    "    <title> My WebPage </title>\n",
    "  </head>\n",
    "  <body>\n",
    "      <p><a href =\"html/9_jQuery_UI.html\" > Click here for output </a></p>\n",
    "  </body>\n",
    "</html>\n",
    "</div>"
   ]
  },
  {
   "cell_type": "code",
   "execution_count": null,
   "metadata": {},
   "outputs": [],
   "source": []
  }
 ],
 "metadata": {
  "kernelspec": {
   "display_name": "Python 3",
   "language": "python",
   "name": "python3"
  },
  "language_info": {
   "codemirror_mode": {
    "name": "ipython",
    "version": 3
   },
   "file_extension": ".py",
   "mimetype": "text/x-python",
   "name": "python",
   "nbconvert_exporter": "python",
   "pygments_lexer": "ipython3",
   "version": "3.4.3"
  }
 },
 "nbformat": 4,
 "nbformat_minor": 2
}
