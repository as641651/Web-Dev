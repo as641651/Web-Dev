{
 "cells": [
  {
   "cell_type": "markdown",
   "metadata": {},
   "source": [
    "## Droppables"
   ]
  },
  {
   "cell_type": "markdown",
   "metadata": {},
   "source": [
    "```html\n",
    "\n",
    "<html>\n",
    "  <head>\n",
    "    <title> JQuery </title>\n",
    "\n",
    "    <script src=\"jquery-3.3.1.min.js\"></script>\n",
    "\n",
    "    <!-- Linking jQuery-UI -->\n",
    "    <link href=\"html/jquery-ui-1.12.1/jquery-ui.css\" rel=\"stylesheet\">\n",
    "    <script src=\"html/jquery-ui-1.12.1/jquery-ui.js\"></script>\n",
    "\n",
    "    <style type=\"text/css\">\n",
    "\n",
    "      #small{\n",
    "        height: 100px;\n",
    "        width:100px;\n",
    "        text-align: center;\n",
    "        margin: 10px;\n",
    "        background-color: #4286f4;\n",
    "      }\n",
    "\n",
    "      #big{\n",
    "        height: 500px;\n",
    "        width:500px;\n",
    "        text-align: center;\n",
    "        margin: 10px;\n",
    "        background-color: #9ef442;\n",
    "        position: relative;\n",
    "        top:200px;\n",
    "        z-index:-1;\n",
    "\n",
    "      }\n",
    "\n",
    "\n",
    "    </style>\n",
    "\n",
    "  </head>\n",
    "  <body>\n",
    "\n",
    "    <div id=\"small\">\n",
    "        Draggable!\n",
    "    </div>\n",
    "\n",
    "    <div id=\"big\">\n",
    "        bucket!\n",
    "    </div>\n",
    "\n",
    "\n",
    "    <script type=\"text/javascript\">\n",
    "\n",
    "      $(\"#small\").draggable();\n",
    "      \n",
    "      $(\"#big\").droppable({\n",
    "\n",
    "        drop: function(event,ui){\n",
    "          //What to happen when drop happens\n",
    "          alert(\"dropped!\");\n",
    "          console.log(event);\n",
    "          console.log(ui);\n",
    "\n",
    "        }\n",
    "\n",
    "      });\n",
    "\n",
    "    </script>\n",
    "\n",
    "  </body>\n",
    "\n",
    "</html>\n",
    "\n",
    "```"
   ]
  },
  {
   "cell_type": "markdown",
   "metadata": {},
   "source": [
    "### Output:\n",
    "\n",
    "<div class=\"alert alert-block alert-info\">\n",
    "\n",
    "<html>\n",
    "  <head>\n",
    "    <title> My WebPage </title>\n",
    "  </head>\n",
    "  <body>\n",
    "      <p><a href =\"html/92_droppables.html\" > Click here for output </a></p>\n",
    "  </body>\n",
    "</html>\n",
    "</div>"
   ]
  },
  {
   "cell_type": "code",
   "execution_count": null,
   "metadata": {},
   "outputs": [],
   "source": []
  }
 ],
 "metadata": {
  "kernelspec": {
   "display_name": "Python 3",
   "language": "python",
   "name": "python3"
  },
  "language_info": {
   "codemirror_mode": {
    "name": "ipython",
    "version": 3
   },
   "file_extension": ".py",
   "mimetype": "text/x-python",
   "name": "python",
   "nbconvert_exporter": "python",
   "pygments_lexer": "ipython3",
   "version": "3.4.3"
  }
 },
 "nbformat": 4,
 "nbformat_minor": 2
}
