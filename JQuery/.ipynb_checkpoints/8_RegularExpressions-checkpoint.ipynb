{
 "cells": [
  {
   "cell_type": "markdown",
   "metadata": {},
   "source": [
    "## Regular Expressions\n",
    "\n",
    "```javascript\n",
    "      var regex = /is/; // Searches for \"is\" and returns a single instance\n",
    "      var regex = /is/g; // Searches for \"is\" and returns all instances\n",
    "      var regex = /is/i; // case insensitive\n",
    "\n",
    "```"
   ]
  },
  {
   "cell_type": "markdown",
   "metadata": {},
   "source": [
    "```html\n",
    "\n",
    "<html>\n",
    "  <head>\n",
    "    <title> JQuery </title>\n",
    "\n",
    "    <script src=\"jquery-3.3.1.min.js\"></script>\n",
    "\n",
    "    <style type=\"text/css\">\n",
    "\n",
    "\n",
    "\n",
    "    </style>\n",
    "\n",
    "  </head>\n",
    "  <body>\n",
    "\n",
    "    <h1> Inspect and check console</h1>\n",
    "\n",
    "    <script type=\"text/javascript\">\n",
    "\n",
    "      var regex = /is/; // pattern\n",
    "      var string = \"Regex is is great!\";\n",
    "      var result = string.match(regex); // does the pattern appear in the string\n",
    "\n",
    "      console.log(\"\\n1) Search a string for the pattern 'is'\");\n",
    "      console.log(\"search string: \",string);\n",
    "      console.log(\"pattern: \",regex);\n",
    "      console.log(\"result: \",result);\n",
    "\n",
    "      //to get all instances of a pattern : add /g\n",
    "      var regex_g = /is/g;\n",
    "      var result_g = string.match(regex_g);\n",
    "\n",
    "\n",
    "      console.log(\"\\n2) getting all instances of 'is' : add /g\");\n",
    "      console.log(\"pattern: \",regex_g);\n",
    "      console.log(\"result: \",result_g);\n",
    "\n",
    "      console.log(\"\\n3) white spaces are not counted\");\n",
    "      var string_w = \"isisis!\";\n",
    "      var result_w = string_w.match(regex_g);\n",
    "\n",
    "      console.log(\"search string: \",string_w);\n",
    "      console.log(\"pattern: \",regex_g);\n",
    "      console.log(\"result: \",result_w);\n",
    "\n",
    "      // The regex are case-sesitive unless /i is added\n",
    "      console.log(\"\\n4) Case insensitive pattern : add /i\");\n",
    "      var string_i = \"gReAt great GREAT\";\n",
    "      var regex_i = /great/ig;\n",
    "      var result_i = string_i.match(regex_i);\n",
    "\n",
    "      console.log(\"search string: \",string_i);\n",
    "      console.log(\"pattern: \",regex_i);\n",
    "      console.log(\"result: \",result_i);\n",
    "\n",
    "\n",
    "    </script>\n",
    "\n",
    "  </body>\n",
    "\n",
    "</html>\n",
    "\n",
    "```"
   ]
  },
  {
   "cell_type": "markdown",
   "metadata": {},
   "source": [
    "### Output:\n",
    "\n",
    "<div class=\"alert alert-block alert-info\">\n",
    "\n",
    "<html>\n",
    "  <head>\n",
    "    <title> My WebPage </title>\n",
    "  </head>\n",
    "  <body>\n",
    "      <p><a href =\"html/8_regex.html\" > Click here for output </a></p>\n",
    "  </body>\n",
    "</html>\n",
    "</div>"
   ]
  },
  {
   "cell_type": "code",
   "execution_count": null,
   "metadata": {},
   "outputs": [],
   "source": []
  }
 ],
 "metadata": {
  "kernelspec": {
   "display_name": "Python 3",
   "language": "python",
   "name": "python3"
  },
  "language_info": {
   "codemirror_mode": {
    "name": "ipython",
    "version": 3
   },
   "file_extension": ".py",
   "mimetype": "text/x-python",
   "name": "python",
   "nbconvert_exporter": "python",
   "pygments_lexer": "ipython3",
   "version": "3.4.3"
  }
 },
 "nbformat": 4,
 "nbformat_minor": 2
}
