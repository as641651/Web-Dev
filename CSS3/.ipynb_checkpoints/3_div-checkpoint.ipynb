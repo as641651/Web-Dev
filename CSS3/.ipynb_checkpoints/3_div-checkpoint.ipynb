{
 "cells": [
  {
   "cell_type": "markdown",
   "metadata": {},
   "source": [
    "## Div\n",
    "\n",
    "Another grouping of elements to be styled"
   ]
  },
  {
   "cell_type": "markdown",
   "metadata": {},
   "source": [
    "```html\n",
    "\n",
    "<html>\n",
    "  <head>\n",
    "    <title> Webpage with Style </title>\n",
    "\n",
    "\n",
    "    <style type=\"text/css\">\n",
    "\n",
    "      #first-section{\n",
    "        color:red;\n",
    "        text-decoration: underline;\n",
    "        background-color: lightblue;\n",
    "        width:10%; /* width can also be set in pixels */\n",
    "      }\n",
    "\n",
    "      .second-section{\n",
    "        background-color: #abbed0; /* can also use hexadecimal code */\n",
    "        width:50%;\n",
    "      }\n",
    "\n",
    "    </style>\n",
    "  </head>\n",
    "  <body>\n",
    "\n",
    "\n",
    "    <!-- div is another grouping of elements to be styled -->\n",
    "    <div id=\"first-section\">\n",
    "      <p>\n",
    "        Styling using div. I'm under div1\n",
    "      </p>\n",
    "\n",
    "      <p>\n",
    "        I'm also under div1\n",
    "      </p>\n",
    "    </div>\n",
    "\n",
    "    <div class=\"second-section\">\n",
    "      <h2> I'm under second section. My background color is a HTML color code from <a href=\"https://htmlcolorcodes.com/\">here</a></h2>\n",
    "    </div>\n",
    "\n",
    "  </body>\n",
    "</html>\n",
    "```"
   ]
  },
  {
   "cell_type": "markdown",
   "metadata": {},
   "source": [
    "### Output:\n",
    "\n",
    "<div class=\"alert alert-block alert-info\">\n",
    "\n",
    "<html>\n",
    "  <head>\n",
    "    <title> My WebPage </title>\n",
    "  </head>\n",
    "  <body>\n",
    "      <p><a href =\"html/div.html\" > Click here for output </a></p>\n",
    "  </body>\n",
    "</html>\n",
    "</div>"
   ]
  },
  {
   "cell_type": "code",
   "execution_count": null,
   "metadata": {},
   "outputs": [],
   "source": []
  }
 ],
 "metadata": {
  "kernelspec": {
   "display_name": "Python 3",
   "language": "python",
   "name": "python3"
  },
  "language_info": {
   "codemirror_mode": {
    "name": "ipython",
    "version": 3
   },
   "file_extension": ".py",
   "mimetype": "text/x-python",
   "name": "python",
   "nbconvert_exporter": "python",
   "pygments_lexer": "ipython3",
   "version": "3.4.3"
  }
 },
 "nbformat": 4,
 "nbformat_minor": 2
}
