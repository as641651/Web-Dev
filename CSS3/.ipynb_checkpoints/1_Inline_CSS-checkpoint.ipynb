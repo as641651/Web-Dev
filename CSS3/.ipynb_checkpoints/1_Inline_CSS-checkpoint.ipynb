{
 "cells": [
  {
   "cell_type": "markdown",
   "metadata": {},
   "source": [
    "## Inline CSS\n",
    "\n",
    "Inline CSS is done using \"**style**\" attribute\n",
    "\n",
    "Different formatting options are separated by \"**;**\"\n",
    "    \n",
    "> **Format:**\n",
    "         \"keyword:value;keyword:value; ... \""
   ]
  },
  {
   "cell_type": "markdown",
   "metadata": {},
   "source": [
    "```html\n",
    "\n",
    "<html>\n",
    "  <head>\n",
    "    <title> Webpage with Style </title>\n",
    "  </head>\n",
    "  <body>\n",
    "\n",
    "    <!-- Inline CSS is done using \"style\" attribute\n",
    "    Different formatting options are separated by \";\"\n",
    "    Format:\n",
    "     \"keyword:value;keyword:value; ... \"\n",
    "   -->\n",
    "\n",
    "    <p style=\"color:blue;font-size:200%\">\n",
    "      Styling a paragraph using inline CSS. This is done by <b>style</b> attribute\n",
    "    </p>\n",
    "\n",
    "    <!-- font-size - relative to default para size.\n",
    "    h1 is by default 250% of paragraph\n",
    "    To reduce h1 by 50% is actually 125% -->\n",
    "    <h1 style=\"color:green;font-size:50%\">CSS is Cool</h1>\n",
    "\n",
    "    <h1 style=\"color:green;font-size:125%\">CSS is Cool</h1>\n",
    "\n",
    "    <h1 style=\"color:green\">CSS is Cool</h1>\n",
    "  </body>\n",
    "</html>\n",
    "\n",
    "```"
   ]
  },
  {
   "cell_type": "markdown",
   "metadata": {},
   "source": [
    "### Output:\n",
    "\n",
    "<div class=\"alert alert-block alert-info\">\n",
    "\n",
    "<html>\n",
    "  <head>\n",
    "    <title> Webpage with Style </title>\n",
    "  </head>\n",
    "  <body>\n",
    "\n",
    "    <!-- Inline CSS is done using \"style\" attribute\n",
    "    Different formatting options are separated by \";\"\n",
    "    Format:\n",
    "     \"keyword:value;keyword:value; ... \"\n",
    "   -->\n",
    "\n",
    "    <p style=\"color:blue;font-size:200%\">\n",
    "      Styling a paragraph using inline CSS. This is done by <b>style</b> attribute\n",
    "    </p>\n",
    "\n",
    "    <!-- font-size - relative to default para size.\n",
    "    h1 is by default 250% of paragraph\n",
    "    To reduce h1 by 50% is actually 125% -->\n",
    "    <h1 style=\"color:green;font-size:50%\">CSS is Cool</h1>\n",
    "\n",
    "    <h1 style=\"color:green;font-size:125%\">CSS is Cool</h1>\n",
    "\n",
    "    <h1 style=\"color:green\">CSS is Cool</h1>\n",
    "  </body>\n",
    "</html>\n",
    "\n",
    "</div>"
   ]
  }
 ],
 "metadata": {
  "kernelspec": {
   "display_name": "Python 3",
   "language": "python",
   "name": "python3"
  },
  "language_info": {
   "codemirror_mode": {
    "name": "ipython",
    "version": 3
   },
   "file_extension": ".py",
   "mimetype": "text/x-python",
   "name": "python",
   "nbconvert_exporter": "python",
   "pygments_lexer": "ipython3",
   "version": "3.4.3"
  }
 },
 "nbformat": 4,
 "nbformat_minor": 2
}
