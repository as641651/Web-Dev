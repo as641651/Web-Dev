{
 "cells": [
  {
   "cell_type": "markdown",
   "metadata": {},
   "source": [
    "## Kepping CSS separate from HTML"
   ]
  },
  {
   "cell_type": "markdown",
   "metadata": {},
   "source": [
    "Store the CSS content in a separate **.css** file and reference that file in the HTML file as follows\n",
    "\n",
    "```html\n",
    "\n",
    "<link rel=\"stylesheet\" type=\"text/css\" href=\"bbc.css\">\n",
    "\n",
    "```\n",
    "\n",
    "Refer **Technology BBC NEWS.html** in *External_CSS* folder"
   ]
  }
 ],
 "metadata": {
  "kernelspec": {
   "display_name": "Python 3",
   "language": "python",
   "name": "python3"
  },
  "language_info": {
   "codemirror_mode": {
    "name": "ipython",
    "version": 3
   },
   "file_extension": ".py",
   "mimetype": "text/x-python",
   "name": "python",
   "nbconvert_exporter": "python",
   "pygments_lexer": "ipython3",
   "version": "3.4.3"
  }
 },
 "nbformat": 4,
 "nbformat_minor": 2
}
