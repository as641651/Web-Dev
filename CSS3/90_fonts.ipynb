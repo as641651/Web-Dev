{
 "cells": [
  {
   "cell_type": "markdown",
   "metadata": {},
   "source": [
    "## Fonts\n",
    "\n",
    "**Remember**:\n",
    ">1) Check the fonts available in your system.  In Linux, you can search for available fonts in **font viewer**\n",
    "\n",
    ">2) To ensure same style in all systems, use **google fonts**. \n",
    "\n",
    ">> a) embed the link in the **head** section\n",
    "\n",
    ">> b) use the font-family name from google"
   ]
  },
  {
   "cell_type": "markdown",
   "metadata": {},
   "source": [
    "```html\n",
    "\n",
    "<html>\n",
    "  <head>\n",
    "    <title> Webpage with Style </title>\n",
    "\n",
    "    <style type=\"text/css\">\n",
    "\n",
    "      P{\n",
    "        font-family:Lobster Two;\n",
    "      }\n",
    "\n",
    "      /* Checks the system for fonts from left to right */\n",
    "      /*That is, if Lucida is not available it will fall back to Monaco and so on */\n",
    "      .web-safe{\n",
    "        font-family: \"Lucida Console\", Monaco, monospace;\n",
    "      }\n",
    "\n",
    "      /*Go to google font and get the font name and link */\n",
    "      .google-fonts{\n",
    "        font-family: 'Indie Flower', cursive;\n",
    "      }\n",
    "\n",
    "    </style>\n",
    "\n",
    "    <!-- Importing google font -->\n",
    "    <link href=\"https://fonts.googleapis.com/css?family=Indie+Flower\" rel=\"stylesheet\">\n",
    "\n",
    "  </head>\n",
    "  <body>\n",
    "\n",
    "    <p>\n",
    "      This is some text. Open Font viewer to see the list of availabe fonts in ubuntu\n",
    "    </p>\n",
    "\n",
    "    <p class=\"web-safe\">\n",
    "      Web safe fonts from <a href=\"https://www.w3schools.com/cssref/css_websafe_fonts.asp\">CSS Websafe fonts</a>\n",
    "    </p>\n",
    "\n",
    "    <p class=\"google-fonts\">\n",
    "      This is google fonts. Get the font from <a href=\"https://fonts.google.com/\"> google fonts</a> and add the link onto your head section\n",
    "    </p>\n",
    "\n",
    "  </body>\n",
    "</html>\n",
    "\n",
    "```"
   ]
  },
  {
   "cell_type": "markdown",
   "metadata": {},
   "source": [
    "### Output:\n",
    "\n",
    "<div class=\"alert alert-block alert-info\">\n",
    "\n",
    "<html>\n",
    "  <head>\n",
    "    <title> My WebPage </title>\n",
    "  </head>\n",
    "  <body>\n",
    "      <p><a href =\"html/fonts.html\" > Click here for output </a></p>\n",
    "  </body>\n",
    "</html>\n",
    "</div>"
   ]
  },
  {
   "cell_type": "code",
   "execution_count": null,
   "metadata": {},
   "outputs": [],
   "source": []
  }
 ],
 "metadata": {
  "kernelspec": {
   "display_name": "Python 3",
   "language": "python",
   "name": "python3"
  },
  "language_info": {
   "codemirror_mode": {
    "name": "ipython",
    "version": 3
   },
   "file_extension": ".py",
   "mimetype": "text/x-python",
   "name": "python",
   "nbconvert_exporter": "python",
   "pygments_lexer": "ipython3",
   "version": "3.4.3"
  }
 },
 "nbformat": 4,
 "nbformat_minor": 2
}
