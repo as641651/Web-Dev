{
 "cells": [
  {
   "cell_type": "markdown",
   "metadata": {},
   "source": [
    "## Pseudo classes\n",
    "\n",
    "In this exercise, we focus on **styling links**"
   ]
  },
  {
   "cell_type": "markdown",
   "metadata": {},
   "source": [
    "```html\n",
    "\n",
    "<html>\n",
    "  <head>\n",
    "    <title> Webpage with Style </title>\n",
    "\n",
    "    <style type=\"text/css\">\n",
    "\n",
    "      /* unvisited link */\n",
    "      a:link{\n",
    "        color: green;\n",
    "      }\n",
    "\n",
    "      /*upon visiting */\n",
    "      a:visited{\n",
    "        color: red;\n",
    "      }\n",
    "\n",
    "      /*selected link (applies up on clicked)*/\n",
    "      a:active{\n",
    "        color: yellow;\n",
    "      }\n",
    "\n",
    "      /*upon hovering*/\n",
    "      a:hover{\n",
    "        text-decoration: overline;\n",
    "      }\n",
    "\n",
    "    </style>\n",
    "\n",
    "\n",
    "  </head>\n",
    "  <body>\n",
    "\n",
    "    <p>\n",
    "      <a href=\"http://www.google.com\">Google</a>\n",
    "    </p>\n",
    "\n",
    "    <!-- To open in new tab -->\n",
    "    <p>\n",
    "      <a href=\"http://www.google.se\" target=\"_blank\">Google in new tab</a>\n",
    "    </p>\n",
    "\n",
    "  </body>\n",
    "</html>\n",
    "```"
   ]
  },
  {
   "cell_type": "markdown",
   "metadata": {},
   "source": [
    "### Output:\n",
    "\n",
    "<div class=\"alert alert-block alert-info\">\n",
    "\n",
    "<html>\n",
    "  <head>\n",
    "    <title> My WebPage </title>\n",
    "  </head>\n",
    "  <body>\n",
    "      <p><a href =\"html/pseudoclasses.html\" > Click here for output </a></p>\n",
    "  </body>\n",
    "</html>\n",
    "</div>"
   ]
  },
  {
   "cell_type": "code",
   "execution_count": null,
   "metadata": {},
   "outputs": [],
   "source": []
  }
 ],
 "metadata": {
  "kernelspec": {
   "display_name": "Python 3",
   "language": "python",
   "name": "python3"
  },
  "language_info": {
   "codemirror_mode": {
    "name": "ipython",
    "version": 3
   },
   "file_extension": ".py",
   "mimetype": "text/x-python",
   "name": "python",
   "nbconvert_exporter": "python",
   "pygments_lexer": "ipython3",
   "version": "3.4.3"
  }
 },
 "nbformat": 4,
 "nbformat_minor": 2
}
