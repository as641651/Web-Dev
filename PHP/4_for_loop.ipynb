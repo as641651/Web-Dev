{
 "cells": [
  {
   "cell_type": "markdown",
   "metadata": {},
   "source": [
    "## for loop"
   ]
  },
  {
   "cell_type": "markdown",
   "metadata": {},
   "source": [
    "```php\n",
    "<?php\n",
    "\n",
    "for(\\$i = 0; \\$i < 10; \\$i++){\n",
    "  echo $i.\"<br />\";\n",
    "}\n",
    "\n",
    "//Looping through arrays\n",
    "echo \"<p>\n",
    "Looping through arrays..\n",
    "</p>\";\n",
    "\n",
    "\\$family = array(\"a\",\"b\",\"c\",\"d\");\n",
    "for(\\$i=0;\\$i<sizeof(\\$family);\\$i++){\n",
    "  echo \\$family[\\$i].\"<br />\";\n",
    "}\n",
    "\n",
    "//Looping through arrays using foreach\n",
    "echo \"<p>\n",
    "Looping through arrays using <b>foreach</b>. Useful for non integer keys..\n",
    "</p>\";\n",
    "\n",
    "foreach(\\$family as \\$key => \\$value){\n",
    "  \\$family[\\$key] = \\$value.\" potter\";\n",
    "}\n",
    "\n",
    "foreach(\\$family as \\$key => \\$value){\n",
    "  echo \"Array item $key is $value <br />\";\n",
    "}\n",
    "\n",
    "?>\n",
    "```"
   ]
  },
  {
   "cell_type": "markdown",
   "metadata": {},
   "source": [
    "### Output:\n",
    "\n",
    "<div class=\"alert alert-block alert-info\">\n",
    "\n",
    "<html>\n",
    "  <head>\n",
    "    <title> My WebPage </title>\n",
    "  </head>\n",
    "  <body>\n",
    "      <p><a href =\"http://aravindsankaran-com.stackstaging.com/PHP/files/for.php\" > Click here for output </a></p>\n",
    "  </body>\n",
    "</html>\n",
    "</div>"
   ]
  },
  {
   "cell_type": "code",
   "execution_count": null,
   "metadata": {},
   "outputs": [],
   "source": []
  }
 ],
 "metadata": {
  "kernelspec": {
   "display_name": "Python 3",
   "language": "python",
   "name": "python3"
  },
  "language_info": {
   "codemirror_mode": {
    "name": "ipython",
    "version": 3
   },
   "file_extension": ".py",
   "mimetype": "text/x-python",
   "name": "python",
   "nbconvert_exporter": "python",
   "pygments_lexer": "ipython3",
   "version": "3.4.3"
  }
 },
 "nbformat": 4,
 "nbformat_minor": 2
}
