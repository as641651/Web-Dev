{
 "cells": [
  {
   "cell_type": "markdown",
   "metadata": {},
   "source": [
    "## Weather\n",
    "\n",
    "> 1) Set a background image that resizes with the page\n",
    "\n",
    "```css\n",
    "      body {\n",
    "        background: url(html/weather-bg.jpg) no-repeat center center fixed;\n",
    "        -webkit-background-size: cover;\n",
    "        -moz-background-size: cover;\n",
    "        -o-background-size: cover;\n",
    "        background-size: cover;\n",
    "      }\n",
    "```\n",
    "\n",
    ">2) Create a form and get the City name\n",
    "```html\n",
    "      <form>\n",
    "       <div class=\"form-group\" id=\"wrapper\">\n",
    "         <label for=\"city\"><h4>Enter the name of a city.</h4></label>\n",
    "         <!-- Get the value from php to retain the fields after submitting -->\n",
    "         <input type=\"text\" class=\"form-control\" id=\"city\" placeholder=\"Eg. Madras\" name=\"city\" value=\"<?php echo $city; ?>\">\n",
    "       </div>\n",
    "       <button type=\"submit\" class=\"btn btn-primary mt-3\" id=\"submit\" >Submit</button>\n",
    "     </form>\n",
    "```\n",
    "\n",
    ">3) Use PHP to create a URL of a website from which weather info can be extracted\n",
    "\n",
    ">4) Display the extracted info in HTML\n",
    "\n",
    ">5) Do sanity checks for input cities that does not exists"
   ]
  },
  {
   "cell_type": "markdown",
   "metadata": {},
   "source": [
    "### Output:\n",
    "\n",
    "<div class=\"alert alert-block alert-info\">\n",
    "\n",
    "<html>\n",
    "  <head>\n",
    "    <title> My WebPage </title>\n",
    "  </head>\n",
    "  <body>\n",
    "      <p><a href =\"http://aravindsankaran-com.stackstaging.com/PHP/files/weather.php\" > Click here for output </a></p>\n",
    "  </body>\n",
    "</html>\n",
    "</div>"
   ]
  },
  {
   "cell_type": "code",
   "execution_count": null,
   "metadata": {},
   "outputs": [],
   "source": []
  }
 ],
 "metadata": {
  "kernelspec": {
   "display_name": "Python 3",
   "language": "python",
   "name": "python3"
  },
  "language_info": {
   "codemirror_mode": {
    "name": "ipython",
    "version": 3
   },
   "file_extension": ".py",
   "mimetype": "text/x-python",
   "name": "python",
   "nbconvert_exporter": "python",
   "pygments_lexer": "ipython3",
   "version": "3.4.3"
  }
 },
 "nbformat": 4,
 "nbformat_minor": 2
}
