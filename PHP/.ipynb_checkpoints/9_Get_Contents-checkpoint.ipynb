{
 "cells": [
  {
   "cell_type": "markdown",
   "metadata": {},
   "source": [
    "## Get contents from other scripts"
   ]
  },
  {
   "cell_type": "markdown",
   "metadata": {},
   "source": [
    "```php\n",
    "<?php\n",
    "\n",
    "//Run the script \"contact-form.php\"\n",
    "include(\"contact-form.php\");\n",
    "\n",
    "//Get contents from another website\n",
    "echo file_get_contents(\"https://ocw.mit.edu/courses/mathematics/18-650-statistics-for-applications-fall-2016/lecture-videos/\");\n",
    " ?>```"
   ]
  },
  {
   "cell_type": "markdown",
   "metadata": {},
   "source": [
    "### Output:\n",
    "\n",
    "<div class=\"alert alert-block alert-info\">\n",
    "\n",
    "<html>\n",
    "  <head>\n",
    "    <title> My WebPage </title>\n",
    "  </head>\n",
    "  <body>\n",
    "      <p><a href =\"http://aravindsankaran-com.stackstaging.com/PHP/files/get_contents.php\" > Click here for output </a></p>\n",
    "  </body>\n",
    "</html>\n",
    "</div>"
   ]
  },
  {
   "cell_type": "code",
   "execution_count": null,
   "metadata": {},
   "outputs": [],
   "source": []
  }
 ],
 "metadata": {
  "kernelspec": {
   "display_name": "Python 3",
   "language": "python",
   "name": "python3"
  },
  "language_info": {
   "codemirror_mode": {
    "name": "ipython",
    "version": 3
   },
   "file_extension": ".py",
   "mimetype": "text/x-python",
   "name": "python",
   "nbconvert_exporter": "python",
   "pygments_lexer": "ipython3",
   "version": "3.4.3"
  }
 },
 "nbformat": 4,
 "nbformat_minor": 2
}
