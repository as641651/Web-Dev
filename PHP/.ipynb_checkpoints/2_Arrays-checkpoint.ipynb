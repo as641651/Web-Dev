{
 "cells": [
  {
   "cell_type": "markdown",
   "metadata": {},
   "source": [
    "## Arrays\n",
    "\n",
    "The following are demonstrated :\n",
    ">1) Printing arrays using **print_r**. Instead, one can view page source\n",
    "\n",
    ">2) Array creation and assignment\n",
    "\n",
    ">3) Array creation in **dict** style\n",
    "\n",
    ">4) Length of array using **sizeof**\n",
    "\n",
    ">5) Adding and removing array elements"
   ]
  },
  {
   "cell_type": "markdown",
   "metadata": {},
   "source": [
    "```php\n",
    "<?php\n",
    "\n",
    "$myArray = array(\"Rob\",\"Aravind\",\"Tommy\");\n",
    "\n",
    "//cant print an array like this\n",
    "echo $myArray;\n",
    "\n",
    "echo \"<br />\";\n",
    "\n",
    "//use print_r\n",
    "print_r($myArray);\n",
    "\n",
    "echo \"<p></p>1) My name is \".$myArray[1];\n",
    "\n",
    "//Array assignment\n",
    "\\$myArray[0] = \"pizza\";\n",
    "echo \"<p>2) New array with reassigned 1st element</p>\";\n",
    "print_r($myArray);\n",
    "\n",
    "//Another way of creating array\n",
    "\\$newArray[0] = \"pizza\";\n",
    "\\$newArray[2] = \"Coke\";\n",
    "\\$newArray[\"myFav\"] = \"Panner\";\n",
    "\n",
    "echo \"<p>3) New array. Notice that the index need not be consequtive or integers</p>\";\n",
    "print_r($newArray);\n",
    "\n",
    "//Dict like array creation\n",
    "$anotherArray = array(\n",
    "  \"France\"=>\"French\",\n",
    "  \"USA\"=>\"English\"\n",
    ");\n",
    "\n",
    "echo \"<p>4) Dict like array creation</p>\";\n",
    "print_r($anotherArray);\n",
    "\n",
    "//Length of Array\n",
    "echo \"<p>5) Length of array using  <b>sizeof(array_name)</b></p>\";\n",
    "echo sizeof($anotherArray);\n",
    "\n",
    "//Adding element to end of array\n",
    "\\$anotherArray[] = \"katie\";\n",
    "\\$anotherArray[] = \"Tom\";\n",
    "echo \"<p>6) Adding element to end of array</p>\";\n",
    "print_r($anotherArray);\n",
    "\n",
    "//removing element from array\n",
    "unset(\\$anotherArray[\"France\"]);\n",
    "unset(\\$anotherArray[0]);\n",
    "\n",
    "echo \"<p>6) Removing element from array using <b>unset</b>. This function <b>unset</b> can also be used on variables</p>\";\n",
    "print_r($anotherArray);\n",
    "\n",
    " ?>\n",
    "```"
   ]
  },
  {
   "cell_type": "markdown",
   "metadata": {},
   "source": [
    "### Output:\n",
    "\n",
    "<div class=\"alert alert-block alert-info\">\n",
    "\n",
    "<html>\n",
    "  <head>\n",
    "    <title> My WebPage </title>\n",
    "  </head>\n",
    "  <body>\n",
    "      <p><a href =\"http://aravindsankaran-com.stackstaging.com/PHP/files/arrays.php\" > Click here for output </a></p>\n",
    "  </body>\n",
    "</html>\n",
    "</div>"
   ]
  },
  {
   "cell_type": "code",
   "execution_count": null,
   "metadata": {},
   "outputs": [],
   "source": []
  }
 ],
 "metadata": {
  "kernelspec": {
   "display_name": "Python 3",
   "language": "python",
   "name": "python3"
  },
  "language_info": {
   "codemirror_mode": {
    "name": "ipython",
    "version": 3
   },
   "file_extension": ".py",
   "mimetype": "text/x-python",
   "name": "python",
   "nbconvert_exporter": "python",
   "pygments_lexer": "ipython3",
   "version": "3.4.3"
  }
 },
 "nbformat": 4,
 "nbformat_minor": 2
}
