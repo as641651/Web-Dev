{
 "cells": [
  {
   "cell_type": "markdown",
   "metadata": {},
   "source": [
    "## Sending Email\n",
    "\n",
    "**FORMAT**\n",
    "\n",
    "> **email (**  email TO, subject, body, header **)**\n",
    "\n",
    " The following list of **headers** are available:\n",
    "```php\n",
    "$headers  = \"From: testsite < mail@domain.com >\\n\";\n",
    "$headers .= \"Cc: testsite < mail@domain.com >\\n\";\n",
    "$headers .= \"X-Sender: testsite < mail@domain.com >\\n\";\n",
    "$headers .= 'X-Mailer: PHP/' . phpversion();\n",
    "$headers .= \"X-Priority: 1\\n\"; // Urgent message!\n",
    "$headers .= \"Return-Path: mail@domain.com\\n\"; // Return path for errors\n",
    "$headers .= \"MIME-Version: 1.0\\r\\n\";\n",
    "$headers .= \"Content-Type: text/html; charset=iso-8859-1\\n\";\n",
    "```    \n",
    "\n",
    "The **From** address will not be verified by default."
   ]
  },
  {
   "cell_type": "markdown",
   "metadata": {},
   "source": [
    "```php\n",
    "\n",
    "<?php\n",
    "\n",
    "  echo \"<h1>Email</h1>\";\n",
    "\n",
    "  $emailTo = \"aravindsankaran22@gmail.com\";\n",
    "  \n",
    "  $subject = \"I hope this works!\";\n",
    "  \n",
    "  $body = \"I think you are great!\";\n",
    "  \n",
    "  $headers = \"From: sender@aravindsankaran-com.stackstaging.com\";\n",
    "\n",
    "  if(mail(\\$emailTo,\\$subject,\\$body,\\$headers)){\n",
    "    echo \"The email was sent successfully!\";\n",
    "  }else{\n",
    "    echo \"The email was NOT sent!\";\n",
    "  }\n",
    "\n",
    " ?>\n",
    "\n",
    "```"
   ]
  },
  {
   "cell_type": "markdown",
   "metadata": {},
   "source": [
    "### Output:\n",
    "\n",
    "<div class=\"alert alert-block alert-info\">\n",
    "\n",
    "<html>\n",
    "  <head>\n",
    "    <title> My WebPage </title>\n",
    "  </head>\n",
    "  <body>\n",
    "      <p><a href =\"http://aravindsankaran-com.stackstaging.com/PHP/files/email.php\" > Click here for output </a></p>\n",
    "  </body>\n",
    "</html>\n",
    "</div>"
   ]
  },
  {
   "cell_type": "code",
   "execution_count": null,
   "metadata": {},
   "outputs": [],
   "source": []
  }
 ],
 "metadata": {
  "kernelspec": {
   "display_name": "Python 3",
   "language": "python",
   "name": "python3"
  },
  "language_info": {
   "codemirror_mode": {
    "name": "ipython",
    "version": 3
   },
   "file_extension": ".py",
   "mimetype": "text/x-python",
   "name": "python",
   "nbconvert_exporter": "python",
   "pygments_lexer": "ipython3",
   "version": "3.4.3"
  }
 },
 "nbformat": 4,
 "nbformat_minor": 2
}
