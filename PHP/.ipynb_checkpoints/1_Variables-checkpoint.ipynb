{
 "cells": [
  {
   "cell_type": "markdown",
   "metadata": {},
   "source": [
    "## Variables\n",
    "\n",
    "The following has been demonstrated :\n",
    "\n",
    ">1) Diplaying variables\n",
    "\n",
    ">2) Concatenating variables\n",
    "\n",
    ">3) Performing calculation\n",
    "\n",
    ">4) Boolean variables\n",
    "\n",
    ">5) Storing variable names within variables"
   ]
  },
  {
   "cell_type": "markdown",
   "metadata": {},
   "source": [
    "```php\n",
    "\n",
    "<?php\n",
    "\n",
    "$name = \"Aravind\";\n",
    "\n",
    "//displaying variables\n",
    "\n",
    "echo \"My name is $name\";\n",
    "\n",
    "$s1 = \"First part\";\n",
    "\n",
    "$s2 = \" combined with second\";\n",
    "\n",
    "echo \"<p>\n",
    "$s1 $s2\n",
    "</p>\";\n",
    "\n",
    "//concatenating variables\n",
    "\n",
    "echo \\$s1.\"<br />\".$s2;\n",
    "\n",
    "//calculations with variables\n",
    "$mynumber = 41;\n",
    "\n",
    "$calc = \\$mynumber*31/98 + 4;\n",
    "\n",
    "echo \"<p>\n",
    "Demonstrating calculation : $calc\n",
    "</p>\";\n",
    "\n",
    "//Boolean variables\n",
    "$mybool = true;\n",
    "echo \"<p>\n",
    "\n",
    "This statement is true? $mybool\n",
    "</p>\";\n",
    "\n",
    "//Storing variable names within variables\n",
    "$varname = \"name\";\n",
    "\n",
    "echo \"my $varname is \".$$varname;\n",
    "\n",
    " ?>\n",
    "```"
   ]
  },
  {
   "cell_type": "markdown",
   "metadata": {},
   "source": [
    "### Output:\n",
    "\n",
    "<div class=\"alert alert-block alert-info\">\n",
    "\n",
    "<html>\n",
    "  <head>\n",
    "    <title> My WebPage </title>\n",
    "  </head>\n",
    "  <body>\n",
    "      <p><a href =\"http://aravindsankaran-com.stackstaging.com/PHP/files/variables.php\" > Click here for output </a></p>\n",
    "  </body>\n",
    "</html>\n",
    "</div>"
   ]
  },
  {
   "cell_type": "code",
   "execution_count": null,
   "metadata": {},
   "outputs": [],
   "source": []
  }
 ],
 "metadata": {
  "kernelspec": {
   "display_name": "Python 3",
   "language": "python",
   "name": "python3"
  },
  "language_info": {
   "codemirror_mode": {
    "name": "ipython",
    "version": 3
   },
   "file_extension": ".py",
   "mimetype": "text/x-python",
   "name": "python",
   "nbconvert_exporter": "python",
   "pygments_lexer": "ipython3",
   "version": "3.4.3"
  }
 },
 "nbformat": 4,
 "nbformat_minor": 2
}
