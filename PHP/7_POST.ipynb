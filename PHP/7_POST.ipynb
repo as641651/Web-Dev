{
 "cells": [
  {
   "cell_type": "markdown",
   "metadata": {},
   "source": [
    "## POST Variable\n",
    "\n",
    "> Adding **method=\"post\"** to make a form **not append url** with get strings\n",
    "\n",
    "> Refreshing the page will display an alert msg that server side actions will be re-performed"
   ]
  },
  {
   "cell_type": "markdown",
   "metadata": {},
   "source": [
    "```php\n",
    "\n",
    "\n",
    "\n",
    "<!-- Add method=\"post\" to make a form not append url with get strings -->\n",
    "\n",
    "<!-- Refreshing the page will display an alert msg that server side actions will be re-performed-->\n",
    " <form method=\"post\">\n",
    "   <label for=\"name\">Name</label>\n",
    "   <input name=\"name\" type=\"text\" />\n",
    "   <br />\n",
    "   <label for=\"number\">Number</label>\n",
    "   <input name=\"number\" type=\"text\" />\n",
    "   <br />\n",
    "   <input type=\"submit\" value = \"Go!\" />\n",
    " </form>\n",
    "\n",
    " <?php\n",
    "  // contents in form-post are stored in $_POST variable\n",
    "  print_r($_POST);\n",
    "\n",
    "  ?>\n",
    "\n",
    "  <form method=\"post\">\n",
    "    <label for=\"uname\">What is your name?</label>\n",
    "    <input name=\"uname\" type=\"text\" />\n",
    "      <input type=\"submit\" value = \"Go!\" />\n",
    "  </form>\n",
    "\n",
    "  <!-- Check if the contents in post variable exists in some database -->\n",
    "  <?php\n",
    "\n",
    "    if(isset($_POST[\"uname\"])){\n",
    "\n",
    "      $family = array(\"rob\",\"amy\",\"tom\",\"jon\");\n",
    "\n",
    "      $isknown = false;\n",
    "\n",
    "      foreach(\\$family as \\$value){\n",
    "        if(\\$value == \\$_POST[\"uname\"]){\n",
    "          \\$isknown = true;\n",
    "        }\n",
    "      }\n",
    "\n",
    "      if(\\$isknown){\n",
    "        echo $_POST[\"uname\"].\" Exists in database\";\n",
    "      }\n",
    "    }\n",
    "\n",
    "   ?>\n",
    "```"
   ]
  },
  {
   "cell_type": "markdown",
   "metadata": {},
   "source": [
    "### Output:\n",
    "\n",
    "<div class=\"alert alert-block alert-info\">\n",
    "\n",
    "<html>\n",
    "  <head>\n",
    "    <title> My WebPage </title>\n",
    "  </head>\n",
    "  <body>\n",
    "      <p><a href =\"http://aravindsankaran-com.stackstaging.com/PHP/files/post.php\" > Click here for output </a></p>\n",
    "  </body>\n",
    "</html>\n",
    "</div>"
   ]
  },
  {
   "cell_type": "code",
   "execution_count": null,
   "metadata": {},
   "outputs": [],
   "source": []
  }
 ],
 "metadata": {
  "kernelspec": {
   "display_name": "Python 3",
   "language": "python",
   "name": "python3"
  },
  "language_info": {
   "codemirror_mode": {
    "name": "ipython",
    "version": 3
   },
   "file_extension": ".py",
   "mimetype": "text/x-python",
   "name": "python",
   "nbconvert_exporter": "python",
   "pygments_lexer": "ipython3",
   "version": "3.4.3"
  }
 },
 "nbformat": 4,
 "nbformat_minor": 2
}
