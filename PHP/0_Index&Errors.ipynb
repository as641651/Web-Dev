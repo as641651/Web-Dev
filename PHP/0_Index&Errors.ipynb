{
 "cells": [
  {
   "cell_type": "markdown",
   "metadata": {},
   "source": [
    "## PHP Introduction\n",
    "\n",
    "PHP is a server side language. Hence, we need to set up a server to run the php scripts\n",
    "\n",
    "**Remember**\n",
    "\n",
    ">1) The index.php is the default file that loads up when the path to that folder containing it is specified as url.\n",
    "\n",
    ">2) PHP insists semicoln at end of each line\n"
   ]
  },
  {
   "cell_type": "markdown",
   "metadata": {},
   "source": [
    "```html\n",
    "\n",
    "The index.php is the default file that loads up when the path to that folder containing it is specified as url.\n",
    "\n",
    "<p>\n",
    "  Home pages are usually index.php\n",
    "</p>\n",
    "```\n",
    "```php\n",
    "<!-- PHP block -->\n",
    "<?php\n",
    "echo \"<p>Echo is used to display html objects within php block</p>\";\n",
    "echo \"PHP insists semicoln at end of each line\";\n",
    "echo \"<p> For errors to be displayed, php.ini should be set up. But make sure to turn\n",
    "      it off at production, which otherwise, hackers can use to identify file locations</p>\"\n",
    "?>\n",
    "```"
   ]
  },
  {
   "cell_type": "markdown",
   "metadata": {},
   "source": [
    "**Displaying Errors**\n",
    "\n",
    "> For errors to be displayed, php.ini should be set up. But make sure to turn\n",
    "      it off at production, which otherwise, hackers can use to identify file locations\n",
    "      \n",
    "> **php.ini** should have the following variables set\n",
    "```php\n",
    "        error_reporting = E_ALL\n",
    "        display_errors = On\n",
    "```\n"
   ]
  },
  {
   "cell_type": "markdown",
   "metadata": {},
   "source": [
    "### Output:\n",
    "\n",
    "<div class=\"alert alert-block alert-info\">\n",
    "\n",
    "<html>\n",
    "  <head>\n",
    "    <title> My WebPage </title>\n",
    "  </head>\n",
    "  <body>\n",
    "      <p><a href =\"http://aravindsankaran-com.stackstaging.com/PHP/files/\" > Click here for output </a></p>\n",
    "  </body>\n",
    "</html>\n",
    "</div>"
   ]
  },
  {
   "cell_type": "code",
   "execution_count": null,
   "metadata": {},
   "outputs": [],
   "source": []
  }
 ],
 "metadata": {
  "kernelspec": {
   "display_name": "Python 3",
   "language": "python",
   "name": "python3"
  },
  "language_info": {
   "codemirror_mode": {
    "name": "ipython",
    "version": 3
   },
   "file_extension": ".py",
   "mimetype": "text/x-python",
   "name": "python",
   "nbconvert_exporter": "python",
   "pygments_lexer": "ipython3",
   "version": "3.4.3"
  }
 },
 "nbformat": 4,
 "nbformat_minor": 2
}
