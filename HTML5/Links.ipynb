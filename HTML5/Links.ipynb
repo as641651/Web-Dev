{
 "cells": [
  {
   "cell_type": "markdown",
   "metadata": {},
   "source": [
    "## Links"
   ]
  },
  {
   "cell_type": "markdown",
   "metadata": {},
   "source": [
    "```html\n",
    "\n",
    "<html>\n",
    "  <head>\n",
    "    <title> My WebPage </title>\n",
    "  </head>\n",
    "  <body>\n",
    "\n",
    "    <!-- Text Link -->\n",
    "\n",
    "    <!-- \"id\" is used for anchor links -->\n",
    "    <p id=\"top\"> Text Link : <a href=\"https://www.google.co.in\"> Click here to go to google</a></p>\n",
    "\n",
    "    <!-- Picture link -->\n",
    "    <p> Picture Link : <a href= \"https://en.wikipedia.org/wiki/Mandelbrot_set\"><br /><img src=\"images.jpeg\" /></a> </p>\n",
    "\n",
    "    <!--RELATIVE LINKS : Links within your website -->\n",
    "    <p> Links to other html file (Relative links) : <a href=\"helloworld.html\"> Hello World</a></p>\n",
    "\n",
    "    <p> More links to demostrate Anchor links</p>\n",
    "    <p id=\"m\"> Picture Link : <a href= \"https://en.wikipedia.org/wiki/Mandelbrot_set\"><br /><img src=\"images.jpeg\" /></a> </p>\n",
    "    <p> Picture Link : <a href= \"https://en.wikipedia.org/wiki/Mandelbrot_set\"><br /><img src=\"images.jpeg\" /></a> </p>\n",
    "    <p> Picture Link : <a href= \"https://en.wikipedia.org/wiki/Mandelbrot_set\"><br /><img src=\"images.jpeg\" /></a> </p>\n",
    "    <p> Picture Link : <a href= \"https://en.wikipedia.org/wiki/Mandelbrot_set\"><br /><img src=\"images.jpeg\" /></a> </p>\n",
    "    <p> Picture Link : <a href= \"https://en.wikipedia.org/wiki/Mandelbrot_set\"><br /><img src=\"images.jpeg\" /></a> </p>\n",
    "\n",
    "    <!-- Anchor Links : Links within a web page -->\n",
    "\n",
    "    <!-- Takes to top of page -->\n",
    "    <p> <a href=\"#top\"> Back to top</a></p>\n",
    "    <!-- Takes to a specific paragraph -->\n",
    "    <p> <a href=\"#m\"> Back to More links</a></p>\n",
    "\n",
    "  </body>\n",
    "</html>\n",
    "\n",
    "```"
   ]
  },
  {
   "cell_type": "markdown",
   "metadata": {},
   "source": [
    "### Output :\n",
    "\n",
    "<div class=\"alert alert-block alert-info\">\n",
    "\n",
    "<html>\n",
    "  <head>\n",
    "    <title> My WebPage </title>\n",
    "  </head>\n",
    "  <body>\n",
    "\n",
    "    <!-- Text Link -->\n",
    "\n",
    "    <!-- \"id\" is used for anchor links -->\n",
    "    <p id=\"top\"> Text Link : <a href=\"https://www.google.co.in\"> Click here to go to google</a></p>\n",
    "\n",
    "    <!-- Picture link -->\n",
    "    <p> Picture Link : <a href= \"https://en.wikipedia.org/wiki/Mandelbrot_set\"><br /><img src=\"images.jpeg\" /></a> </p>\n",
    "\n",
    "    <!--RELATIVE LINKS : Links within your website -->\n",
    "    <p> Links to other html file (Relative links) : <a href=\"helloworld.html\"> Hello World</a></p>\n",
    "\n",
    "    <p> More links to demostrate Anchor links</p>\n",
    "    <p id=\"m\"> Picture Link : <a href= \"https://en.wikipedia.org/wiki/Mandelbrot_set\"><br /><img src=\"images.jpeg\" /></a> </p>\n",
    "    <p> Picture Link : <a href= \"https://en.wikipedia.org/wiki/Mandelbrot_set\"><br /><img src=\"images.jpeg\" /></a> </p>\n",
    "    <p> Picture Link : <a href= \"https://en.wikipedia.org/wiki/Mandelbrot_set\"><br /><img src=\"images.jpeg\" /></a> </p>\n",
    "    <p> Picture Link : <a href= \"https://en.wikipedia.org/wiki/Mandelbrot_set\"><br /><img src=\"images.jpeg\" /></a> </p>\n",
    "    <p> Picture Link : <a href= \"https://en.wikipedia.org/wiki/Mandelbrot_set\"><br /><img src=\"images.jpeg\" /></a> </p>\n",
    "\n",
    "    <!-- Anchor Links : Links within a web page -->\n",
    "\n",
    "    <!-- Takes to top of page -->\n",
    "    <p> <a href=\"#top\"> Back to top</a></p>\n",
    "    <!-- Takes to a specific paragraph -->\n",
    "    <p> <a href=\"#m\"> Back to More links</a></p>\n",
    "\n",
    "  </body>\n",
    "</html>\n",
    "</div>"
   ]
  }
 ],
 "metadata": {
  "kernelspec": {
   "display_name": "Python 3",
   "language": "python",
   "name": "python3"
  },
  "language_info": {
   "codemirror_mode": {
    "name": "ipython",
    "version": 3
   },
   "file_extension": ".py",
   "mimetype": "text/x-python",
   "name": "python",
   "nbconvert_exporter": "python",
   "pygments_lexer": "ipython3",
   "version": "3.4.3"
  }
 },
 "nbformat": 4,
 "nbformat_minor": 2
}
