{
 "cells": [
  {
   "cell_type": "markdown",
   "metadata": {},
   "source": [
    "## Text formatting"
   ]
  },
  {
   "cell_type": "markdown",
   "metadata": {},
   "source": [
    "```html\n",
    "\n",
    "<html>\n",
    "  <head>\n",
    "    <title> My WebPage </title>\n",
    "  </head>\n",
    "  <body>\n",
    "\n",
    "    <p>\n",
    "      Here is some <b>bold</b> text. <br />\n",
    "      Here is some <strong> strong bold</strong> text. <br /> <!-- looks similar, but more preferred-->\n",
    "      Here is some <i>italic</i> text. <br />\n",
    "      Here is some <em>emphasis</em> text. <br /><!-- looks similar, but more preferred-->\n",
    "      Here is some <u>underlined</u> text. <br /> <!-- not availalble in HTML 4.01 but brought back in version 5-->\n",
    "      Here is some <ins>inserted</ins> text. <br /> <!-- more preferred -->\n",
    "      Here is some <sup>superscript</sup> text. <br />\n",
    "      Here is some <sub>suberscript</sub> text. <br />\n",
    "      Here is some <del>stricked</del> text. <br />\n",
    "\n",
    "      <!-- Draws a horizontal line -->\n",
    "      <hr />\n",
    "\n",
    "      <b> Does formatting work outside \"p\" tags?</b> <ins>YES</ins>\n",
    "    \n",
    "    </p>\n",
    "\n",
    "  </body>\n",
    "</html>\n",
    "\n",
    "```"
   ]
  },
  {
   "cell_type": "markdown",
   "metadata": {},
   "source": [
    "### Output :\n",
    "\n",
    "<div class=\"alert alert-block alert-info\">\n",
    "<html>\n",
    "  <head>\n",
    "    <title> My WebPage </title>\n",
    "  </head>\n",
    "  <body>\n",
    "\n",
    "    <p>\n",
    "      Here is some <b>bold</b> text. <br />\n",
    "      Here is some <strong> strong bold</strong> text. <br /> <!-- looks similar, but more preferred-->\n",
    "      Here is some <i>italic</i> text. <br />\n",
    "      Here is some <em>emphasis</em> text. <br /><!-- looks similar, but more preferred-->\n",
    "      Here is some <u>underlined</u> text. <br /> <!-- not availalble in HTML 4.01 but brought back in version 5-->\n",
    "      Here is some <ins>inserted</ins> text. <br /> <!-- more preferred -->\n",
    "      Here is some <sup>superscript</sup> text. <br />\n",
    "      Here is some <sub>suberscript</sub> text. <br />\n",
    "      Here is some <del>stricked</del> text. <br />\n",
    "\n",
    "      <!-- Draws a horizontal line -->\n",
    "      <hr />\n",
    "\n",
    "      <b> Does formatting work outside \"p\" tags?</b> <ins>YES</ins>\n",
    "    \n",
    "    </p>\n",
    "\n",
    "  </body>\n",
    "</html>\n",
    "</div>"
   ]
  },
  {
   "cell_type": "code",
   "execution_count": null,
   "metadata": {},
   "outputs": [],
   "source": []
  }
 ],
 "metadata": {
  "kernelspec": {
   "display_name": "Python 3",
   "language": "python",
   "name": "python3"
  },
  "language_info": {
   "codemirror_mode": {
    "name": "ipython",
    "version": 3
   },
   "file_extension": ".py",
   "mimetype": "text/x-python",
   "name": "python",
   "nbconvert_exporter": "python",
   "pygments_lexer": "ipython3",
   "version": "3.4.3"
  }
 },
 "nbformat": 4,
 "nbformat_minor": 2
}
