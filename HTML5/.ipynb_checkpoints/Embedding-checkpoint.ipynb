{
 "cells": [
  {
   "cell_type": "markdown",
   "metadata": {},
   "source": [
    "## Embedding"
   ]
  },
  {
   "cell_type": "markdown",
   "metadata": {},
   "source": [
    "```html\n",
    "\n",
    "<html>\n",
    "  <head>\n",
    "    <title> IFrame Example </title>\n",
    "  </head>\n",
    "  <body>\n",
    "\n",
    "    <p><strong>Including contents from other websites into our webpage</strong></p>\n",
    "    <p>\n",
    "      Especially used to embed videos. Display translations from other sites\n",
    "    </p>\n",
    "\n",
    "    <!-- Absolute link -->\n",
    "    <iframe src=\"https://www.ecowebhosting.co.uk/\"></iframe>\n",
    "\n",
    "    <!-- Relative link -->\n",
    "    <iframe src=\"helloworld.html\"></iframe>\n",
    "\n",
    "    <!-- Embed youtube videos -->\n",
    "    <!-- Click on youtube video \"Share\" and select \"embed\", you ll get the iframe code -->\n",
    "    <iframe width=\"560\" height=\"315\" src=\"https://www.youtube.com/embed/yQjHSIHPJfw\" frameborder=\"0\" allow=\"autoplay; encrypted-media\" allowfullscreen></iframe>\n",
    "\n",
    "  </body>\n",
    "</html>\n",
    "\n",
    "```"
   ]
  },
  {
   "cell_type": "markdown",
   "metadata": {},
   "source": [
    "### Output :\n",
    "\n",
    "<div class=\"alert alert-block alert-info\">\n",
    "\n",
    "<html>\n",
    "  <head>\n",
    "    <title> My WebPage </title>\n",
    "  </head>\n",
    "  <body>\n",
    "      <p><a href =\"iframe.html\" > Click here for output </a></p>\n",
    "  </body>\n",
    "</html>\n",
    "</div>"
   ]
  },
  {
   "cell_type": "code",
   "execution_count": null,
   "metadata": {},
   "outputs": [],
   "source": []
  }
 ],
 "metadata": {
  "kernelspec": {
   "display_name": "Python 3",
   "language": "python",
   "name": "python3"
  },
  "language_info": {
   "codemirror_mode": {
    "name": "ipython",
    "version": 3
   },
   "file_extension": ".py",
   "mimetype": "text/x-python",
   "name": "python",
   "nbconvert_exporter": "python",
   "pygments_lexer": "ipython3",
   "version": "3.4.3"
  }
 },
 "nbformat": 4,
 "nbformat_minor": 2
}
