{
 "cells": [
  {
   "cell_type": "markdown",
   "metadata": {},
   "source": [
    "## HTML Entities\n",
    "\n",
    "To display HTML Entities, we need special symbols"
   ]
  },
  {
   "cell_type": "markdown",
   "metadata": {},
   "source": [
    "```html\n",
    "\n",
    "<html>\n",
    "  <head>\n",
    "    <title> My WebPage </title>\n",
    "  </head>\n",
    "  <body>\n",
    "\n",
    "    <p> To display <strong> HTML Entities</strong>, we need special symbols. <a href=\"https://www.w3schools.com/html/html_entities.asp\"> Details</a></p>\n",
    "    \n",
    "     Here we display the HTML entity : <br />\n",
    "    \n",
    "     &lt;a&gt; <br />\n",
    "     &lt;a href = \"www.google.com\"&gt;\n",
    "\n",
    "  </body>\n",
    "</html>\n",
    "\n",
    "```"
   ]
  },
  {
   "cell_type": "markdown",
   "metadata": {},
   "source": [
    "### Output :\n",
    "\n",
    "<div class=\"alert alert-block alert-info\">\n",
    "\n",
    "<html>\n",
    "  <head>\n",
    "    <title> My WebPage </title>\n",
    "  </head>\n",
    "  <body>\n",
    "\n",
    "    <p> To display <strong> HTML Entities</strong>, we need special symbols. <a href=\"https://www.w3schools.com/html/html_entities.asp\"> Details</a></p>\n",
    "     Here we display the HTML entity : <br />\n",
    "     &lt;a&gt; <br />\n",
    "     &lt;a href = \"www.google.com\"&gt;\n",
    "\n",
    "  </body>\n",
    "</html>\n",
    "\n",
    "</div>"
   ]
  }
 ],
 "metadata": {
  "kernelspec": {
   "display_name": "Python 3",
   "language": "python",
   "name": "python3"
  },
  "language_info": {
   "codemirror_mode": {
    "name": "ipython",
    "version": 3
   },
   "file_extension": ".py",
   "mimetype": "text/x-python",
   "name": "python",
   "nbconvert_exporter": "python",
   "pygments_lexer": "ipython3",
   "version": "3.4.3"
  }
 },
 "nbformat": 4,
 "nbformat_minor": 2
}
