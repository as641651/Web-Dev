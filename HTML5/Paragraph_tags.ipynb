{
 "cells": [
  {
   "cell_type": "markdown",
   "metadata": {},
   "source": [
    "## Paragraph_tags"
   ]
  },
  {
   "cell_type": "markdown",
   "metadata": {},
   "source": [
    "```html\n",
    "<html>\n",
    "  <head>\n",
    "    <title> My WebPage </title>\n",
    "  </head>\n",
    "  <body>\n",
    "\n",
    "   Here is some text without \"p\" tags.\n",
    "\n",
    "   Here is some more text.\n",
    "\n",
    "    <p>\n",
    "      Without \"p\" tags, new lines are not identified\n",
    "    </p>\n",
    "\n",
    "    <p>\n",
    "      Now this is a new line\n",
    "    </p>\n",
    "\n",
    "    <!-- in X HTML, <br /> is used -->\n",
    "    <p>\n",
    "      Here is some text <br> with a line break. Also notice \"br\" is a self-closing tag. \n",
    "    </p>\n",
    "    <p>\n",
    "      We can also apply different formatting with this tag\n",
    "    </p>\n",
    "\n",
    "  </body>\n",
    "</html>\n",
    "```"
   ]
  },
  {
   "cell_type": "markdown",
   "metadata": {},
   "source": [
    "### Output: \n",
    "\n",
    "<div class=\"alert alert-block alert-info\">\n",
    "<html>\n",
    "  <head>\n",
    "    <title> My WebPage </title>\n",
    "  </head>\n",
    "  <body>\n",
    "\n",
    "    Here is some text without \"p\" tags.\n",
    "\n",
    "    Here is some more text.\n",
    "\n",
    "    <p>\n",
    "      Without \"p\" tags, new lines are not identified\n",
    "    </p>\n",
    "\n",
    "    <p>\n",
    "      Now this is a new line\n",
    "    </p>\n",
    "\n",
    "    <p>\n",
    "      Here is some text <br> with a line break. Also notice \"br\" is a self-closing tag.\n",
    "    </p>\n",
    "    <p>\n",
    "      We can also apply different formatting with this tag\n",
    "    </p>\n",
    "\n",
    "  </body>\n",
    "</html>\n",
    "</div>"
   ]
  },
  {
   "cell_type": "code",
   "execution_count": null,
   "metadata": {},
   "outputs": [],
   "source": []
  }
 ],
 "metadata": {
  "kernelspec": {
   "display_name": "Python 3",
   "language": "python",
   "name": "python3"
  },
  "language_info": {
   "codemirror_mode": {
    "name": "ipython",
    "version": 3
   },
   "file_extension": ".py",
   "mimetype": "text/x-python",
   "name": "python",
   "nbconvert_exporter": "python",
   "pygments_lexer": "ipython3",
   "version": "3.4.3"
  }
 },
 "nbformat": 4,
 "nbformat_minor": 2
}
