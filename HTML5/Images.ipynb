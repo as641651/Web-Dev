{
 "cells": [
  {
   "cell_type": "markdown",
   "metadata": {},
   "source": [
    "## Images"
   ]
  },
  {
   "cell_type": "markdown",
   "metadata": {},
   "source": [
    "```html\n",
    "\n",
    "<html>\n",
    "  <head>\n",
    "    <title> My WebPage </title>\n",
    "  </head>\n",
    "  <body>\n",
    "\n",
    "    <!-- width in pixels -->\n",
    "    <!-- can also specify heigth -->\n",
    "    <img src=\"images.jpeg\" width=\"240\">\n",
    "    <p>\n",
    "      <strong>Mandelbrot</strong>\n",
    "    </p>\n",
    "    <!-- loading image from url-->\n",
    "    <!-- This is called hotlinking. If my site gets a lot of traffic, so would the linked site -->\n",
    "    <img src=\"https://i.pinimg.com/736x/a7/0f/a2/a70fa29cbdd07046f782ba7ac952a2af--charlotte-north-carolina-charlotte-nc.jpg\" width=\"240\" align=\"right\">\n",
    "  </body>\n",
    "</html>\n",
    "\n",
    "```"
   ]
  },
  {
   "cell_type": "markdown",
   "metadata": {},
   "source": [
    "### Output :\n",
    "\n",
    "(Image and text alignment in CSS section)\n",
    "\n",
    "<div class=\"alert alert-block alert-info\">\n",
    "<html>\n",
    "  <head>\n",
    "    <title> My WebPage </title>\n",
    "  </head>\n",
    "  <body>\n",
    "\n",
    "    <!-- width in pixels -->\n",
    "    <!-- can also specify heigth -->\n",
    "    <img src=\"images.jpeg\" width=\"100\">\n",
    "    <p>\n",
    "      <strong>Mandelbrot</strong>\n",
    "    </p>\n",
    "    <!-- loading image from url-->\n",
    "    <!-- This is called hotlinking. If my site gets a lot of traffic, so would the linked site -->\n",
    "    <img src=\"https://i.pinimg.com/736x/a7/0f/a2/a70fa29cbdd07046f782ba7ac952a2af--charlotte-north-carolina-charlotte-nc.jpg\" width=\"100\" align=\"right\">\n",
    "    <p>\n",
    "      <strong>Hot link image</strong>\n",
    "    </p>\n",
    "  </body>\n",
    "</html>\n",
    "</div>"
   ]
  },
  {
   "cell_type": "code",
   "execution_count": null,
   "metadata": {},
   "outputs": [],
   "source": []
  }
 ],
 "metadata": {
  "kernelspec": {
   "display_name": "Python 3",
   "language": "python",
   "name": "python3"
  },
  "language_info": {
   "codemirror_mode": {
    "name": "ipython",
    "version": 3
   },
   "file_extension": ".py",
   "mimetype": "text/x-python",
   "name": "python",
   "nbconvert_exporter": "python",
   "pygments_lexer": "ipython3",
   "version": "3.4.3"
  }
 },
 "nbformat": 4,
 "nbformat_minor": 2
}
