{
 "cells": [
  {
   "cell_type": "markdown",
   "metadata": {},
   "source": [
    "## Header Tags"
   ]
  },
  {
   "cell_type": "markdown",
   "metadata": {},
   "source": [
    "```html\n",
    "<html>\n",
    "  <head>\n",
    "    <title> My WebPage </title>\n",
    "  </head>\n",
    "  <body>\n",
    "    <h1> This is a big header</h1>\n",
    "    <h2> This is quite a big header</h2>\n",
    "    <h3> This is a h3 header</h3>\n",
    "    <h4> This is a h4 header</h4>\n",
    "    <h5> This is a h5 header</h5>\n",
    "    <h6> This is a h6 header</h6> <!-- Rarely used-->\n",
    "    <h7> This is a h7 header</h7> <!-- Thats normal text. This header doesnt exist -->\n",
    "\n",
    "  </body>\n",
    "</html>\n",
    "```"
   ]
  },
  {
   "cell_type": "markdown",
   "metadata": {},
   "source": [
    "### Output :\n",
    "\n",
    "<div class=\"alert alert-block alert-info\">\n",
    "\n",
    "<html>\n",
    "  <head>\n",
    "    <title> My WebPage </title>\n",
    "  </head>\n",
    "  <body>\n",
    "    <h1> This is a big header</h1>\n",
    "    <h2> This is quite a big header</h2>\n",
    "    <h3> This is a h3 header</h3>\n",
    "    <h4> This is a h4 header</h4>\n",
    "    <h5> This is a h5 header</h5>\n",
    "    <h6> This is a h6 header</h6> <!-- Rarely used-->\n",
    "    <h7> This is a h7 header</h7> <!-- Thats normal text. This header doesnt exist -->\n",
    "\n",
    "  </body>\n",
    "</html>\n",
    "\n",
    "</div>"
   ]
  },
  {
   "cell_type": "code",
   "execution_count": null,
   "metadata": {},
   "outputs": [],
   "source": []
  }
 ],
 "metadata": {
  "kernelspec": {
   "display_name": "Python 3",
   "language": "python",
   "name": "python3"
  },
  "language_info": {
   "codemirror_mode": {
    "name": "ipython",
    "version": 3
   },
   "file_extension": ".py",
   "mimetype": "text/x-python",
   "name": "python",
   "nbconvert_exporter": "python",
   "pygments_lexer": "ipython3",
   "version": "3.4.3"
  }
 },
 "nbformat": 4,
 "nbformat_minor": 2
}
