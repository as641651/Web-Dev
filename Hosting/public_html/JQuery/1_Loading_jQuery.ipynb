{
 "cells": [
  {
   "cell_type": "markdown",
   "metadata": {},
   "source": [
    "## jQuery\n",
    "\n",
    "<html>\n",
    "    <ul>\n",
    "      <li>It is built on top of <b>java script</b> </li>\n",
    "      <li>Enables dragging and dropping <br /></li>\n",
    "      <li>Enables Widget development.</li>\n",
    "      <li>Exciting plugins (auto-complete, slider etc)</li>\n",
    "    </ul>\n",
    "</html>\n",
    "\n",
    "### Loading jQuery\n",
    "\n",
    "It must be linked in the **head** section. Two ways of doing it. :\n",
    "\n",
    "> 1) Get the link from google\n",
    "> ```javascript\n",
    "<script src=\"https://ajax.googleapis.com/ajax/libs/jquery/3.3.1/jquery.min.js\"></script>\n",
    "```\n",
    "\n",
    ">2) Download and store it in your local drive\n",
    ">```javascript\n",
    " <script src=\"jquery-3.3.1.min.js\"></script>\n",
    "```\n"
   ]
  },
  {
   "cell_type": "markdown",
   "metadata": {},
   "source": [
    "```html\n",
    "\n",
    "<html>\n",
    "  <head>\n",
    "    <title> JQuery </title>\n",
    "\n",
    "    <!-- pulls the jquery 3.3.1 for our use. Two ways of doing it : -->\n",
    "\n",
    "    <!-- 1) Get the link from google -->\n",
    "    <!-- <script src=\"https://ajax.googleapis.com/ajax/libs/jquery/3.3.1/jquery.min.js\"></script> -->\n",
    "\n",
    "    <!-- 2) Download and store it in your local drive -->\n",
    "    <script src=\"jquery-3.3.1.min.js\"></script>\n",
    "\n",
    "    <style type=\"text/css\">\n",
    "\n",
    "\n",
    "\n",
    "    </style>\n",
    "\n",
    "  </head>\n",
    "  <body>\n",
    "\n",
    "    <h2> JQuery</h2>\n",
    "\n",
    "    <ul>\n",
    "      <li>It is built on top of <b>java script</b> </li>\n",
    "      <li>Enables dragging and dropping <br /></li>\n",
    "      <li>Enables Widget development.</li>\n",
    "      <li>Exciting plugins (auto-complete, slider etc)</li>\n",
    "    </ul>\n",
    "\n",
    "\n",
    "\n",
    "\n",
    "    <script type=\"text/javascript\">\n",
    "\n",
    "      //Mind the \"small j\" in jQuery. I made that mistake and was struggling\n",
    "      if(typeof jQuery == \"undefined\"){\n",
    "        alert(\"JQuery is not installed\")\n",
    "      }else{\n",
    "        alert(\"JQuery is installed correctly!\")\n",
    "      }\n",
    "\n",
    "\n",
    "    </script>\n",
    "\n",
    "  </body>\n",
    "\n",
    "</html>\n",
    "```"
   ]
  },
  {
   "cell_type": "markdown",
   "metadata": {},
   "source": [
    "### Output:\n",
    "\n",
    "<div class=\"alert alert-block alert-info\">\n",
    "\n",
    "<html>\n",
    "  <head>\n",
    "    <title> My WebPage </title>\n",
    "  </head>\n",
    "  <body>\n",
    "      <p><a href =\"html/1_loading.html\" > Click here for output </a></p>\n",
    "  </body>\n",
    "</html>\n",
    "</div>"
   ]
  },
  {
   "cell_type": "code",
   "execution_count": null,
   "metadata": {},
   "outputs": [],
   "source": []
  }
 ],
 "metadata": {
  "kernelspec": {
   "display_name": "Python 3",
   "language": "python",
   "name": "python3"
  },
  "language_info": {
   "codemirror_mode": {
    "name": "ipython",
    "version": 3
   },
   "file_extension": ".py",
   "mimetype": "text/x-python",
   "name": "python",
   "nbconvert_exporter": "python",
   "pygments_lexer": "ipython3",
   "version": "3.4.3"
  }
 },
 "nbformat": 4,
 "nbformat_minor": 2
}
